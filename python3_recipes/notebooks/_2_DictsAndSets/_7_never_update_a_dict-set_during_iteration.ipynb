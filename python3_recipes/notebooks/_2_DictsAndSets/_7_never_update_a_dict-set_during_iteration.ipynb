{
 "cells": [
  {
   "cell_type": "markdown",
   "metadata": {},
   "source": [
    "## Problem\n",
    "- How do we remove or add items to a Python dict/set while iterating on it and in-place\n",
    "- for instance let's delete clients with a negative balance and IN-PLACE"
   ]
  },
  {
   "cell_type": "code",
   "execution_count": 1,
   "metadata": {},
   "outputs": [],
   "source": [
    "clients_balance = {'Junior': -50., 'Amy': 300., 'Zak': 500., 'Will': 0., 'James': -5., 'Emilie': 1000.}"
   ]
  },
  {
   "cell_type": "markdown",
   "metadata": {},
   "source": [
    "## Answer\n",
    "- The short answer is: you never want to add/remove items to a dict/set while iterating on that same list at same time"
   ]
  },
  {
   "cell_type": "code",
   "execution_count": 3,
   "metadata": {},
   "outputs": [
    {
     "ename": "RuntimeError",
     "evalue": "dictionary changed size during iteration",
     "output_type": "error",
     "traceback": [
      "\u001b[0;31m---------------------------------------------------------------------------\u001b[0m",
      "\u001b[0;31mRuntimeError\u001b[0m                              Traceback (most recent call last)",
      "\u001b[0;32m<ipython-input-3-99e62d7bac59>\u001b[0m in \u001b[0;36m<module>\u001b[0;34m\u001b[0m\n\u001b[0;32m----> 1\u001b[0;31m \u001b[0;32mfor\u001b[0m \u001b[0mclient\u001b[0m\u001b[0;34m,\u001b[0m \u001b[0mbalance\u001b[0m \u001b[0;32min\u001b[0m \u001b[0mclients_balance\u001b[0m\u001b[0;34m.\u001b[0m\u001b[0mitems\u001b[0m\u001b[0;34m(\u001b[0m\u001b[0;34m)\u001b[0m\u001b[0;34m:\u001b[0m\u001b[0;34m\u001b[0m\u001b[0m\n\u001b[0m\u001b[1;32m      2\u001b[0m     \u001b[0;32mif\u001b[0m \u001b[0mbalance\u001b[0m \u001b[0;34m<\u001b[0m \u001b[0;36m0.\u001b[0m\u001b[0;34m:\u001b[0m\u001b[0;34m\u001b[0m\u001b[0m\n\u001b[1;32m      3\u001b[0m         \u001b[0;32mdel\u001b[0m \u001b[0mclients_balance\u001b[0m\u001b[0;34m[\u001b[0m\u001b[0mclient\u001b[0m\u001b[0;34m]\u001b[0m\u001b[0;34m\u001b[0m\u001b[0m\n",
      "\u001b[0;31mRuntimeError\u001b[0m: dictionary changed size during iteration"
     ]
    }
   ],
   "source": [
    "for client, balance in clients_balance.items():\n",
    "    if balance < 0.:\n",
    "        del clients_balance[client] #<0>"
   ]
  },
  {
   "cell_type": "code",
   "execution_count": 5,
   "metadata": {},
   "outputs": [
    {
     "ename": "RuntimeError",
     "evalue": "Set changed size during iteration",
     "output_type": "error",
     "traceback": [
      "\u001b[0;31m---------------------------------------------------------------------------\u001b[0m",
      "\u001b[0;31mRuntimeError\u001b[0m                              Traceback (most recent call last)",
      "\u001b[0;32m<ipython-input-5-1d384a1a12d8>\u001b[0m in \u001b[0;36m<module>\u001b[0;34m\u001b[0m\n\u001b[1;32m      1\u001b[0m \u001b[0ms\u001b[0m \u001b[0;34m=\u001b[0m \u001b[0mset\u001b[0m\u001b[0;34m(\u001b[0m\u001b[0;34m[\u001b[0m\u001b[0;36m0\u001b[0m\u001b[0;34m,\u001b[0m \u001b[0;36m1\u001b[0m\u001b[0;34m,\u001b[0m \u001b[0;36m2\u001b[0m\u001b[0;34m,\u001b[0m \u001b[0;36m3\u001b[0m\u001b[0;34m,\u001b[0m \u001b[0;36m4\u001b[0m\u001b[0;34m]\u001b[0m\u001b[0;34m)\u001b[0m\u001b[0;34m\u001b[0m\u001b[0m\n\u001b[0;32m----> 2\u001b[0;31m \u001b[0;32mfor\u001b[0m \u001b[0mel\u001b[0m \u001b[0;32min\u001b[0m \u001b[0ms\u001b[0m\u001b[0;34m:\u001b[0m\u001b[0;34m\u001b[0m\u001b[0m\n\u001b[0m\u001b[1;32m      3\u001b[0m     \u001b[0;32mif\u001b[0m \u001b[0mel\u001b[0m\u001b[0;34m%\u001b[0m\u001b[0;36m2\u001b[0m \u001b[0;34m==\u001b[0m \u001b[0;36m0\u001b[0m\u001b[0;34m:\u001b[0m\u001b[0;34m\u001b[0m\u001b[0m\n\u001b[1;32m      4\u001b[0m         \u001b[0ms\u001b[0m\u001b[0;34m.\u001b[0m\u001b[0mremove\u001b[0m\u001b[0;34m(\u001b[0m\u001b[0mel\u001b[0m\u001b[0;34m)\u001b[0m\u001b[0;34m\u001b[0m\u001b[0m\n",
      "\u001b[0;31mRuntimeError\u001b[0m: Set changed size during iteration"
     ]
    }
   ],
   "source": [
    "s = set([0, 1, 2, 3, 4])\n",
    "for el in s:\n",
    "    if el%2 == 0:\n",
    "        s.remove(el)  #<1>"
   ]
  },
  {
   "cell_type": "markdown",
   "metadata": {},
   "source": [
    "- You must iterate on a copy, there is no way arround"
   ]
  },
  {
   "cell_type": "code",
   "execution_count": 11,
   "metadata": {},
   "outputs": [
    {
     "name": "stdout",
     "output_type": "stream",
     "text": [
      "clients_balance = {'Amy': 300.0, 'Zak': 500.0, 'Will': 0.0, 'Emilie': 1000.0}\n",
      "s = {1, 3}\n"
     ]
    }
   ],
   "source": [
    "clients_balance = {'Junior': -50., 'Amy': 300., 'Zak': 500., 'Will': 0., 'James': -5., 'Emilie': 1000.}\n",
    "\n",
    "balance_copy = dict(clients_balance)\n",
    "for client, balance in balance_copy.items(): #<2>\n",
    "    if balance < 0.:\n",
    "        del clients_balance[client] #<2>\n",
    "print(f'clients_balance = {clients_balance}')\n",
    "\n",
    "\n",
    "s = set([0, 1, 2, 3, 4])\n",
    "s_copy = set(s)\n",
    "for el in s_copy: #<2>\n",
    "    if el%2 == 0:\n",
    "        s.remove(el)  \n",
    "print(f's = {s}')"
   ]
  },
  {
   "cell_type": "markdown",
   "metadata": {},
   "source": [
    "- Or even better, use dict/set comprehensesion, which is more memory-efficient and less verbose"
   ]
  },
  {
   "cell_type": "code",
   "execution_count": 12,
   "metadata": {},
   "outputs": [
    {
     "name": "stdout",
     "output_type": "stream",
     "text": [
      "clients_balance = {'Amy': 300.0, 'Zak': 500.0, 'Will': 0.0, 'Emilie': 1000.0}\n",
      "s = {1, 3}\n"
     ]
    }
   ],
   "source": [
    "clients_balance = {'Junior': -50., 'Amy': 300., 'Zak': 500., 'Will': 0., 'James': -5., 'Emilie': 1000.}\n",
    "clients_balance = {client:balance for client,balance in clients_balance.items() if balance>= 0.} #<3>\n",
    "print(f'clients_balance = {clients_balance}')\n",
    "\n",
    "s = set([0, 1, 2, 3, 4])\n",
    "s = {el for el in s if el%2 != 0} #<3>\n",
    "print(f's = {s}')"
   ]
  },
  {
   "cell_type": "markdown",
   "metadata": {},
   "source": [
    "## Discussion\n",
    "- <0, 1> deleting/inserting in a dict/set while iterating on it raises a RuntimeError: Set changed size during iteration\n",
    "- <2> one solution is to iterate on a copied version but insert/delete on the real dict/set we want to modify\n",
    "- <3> a much more elegant and efficient solution is use dict/set comprehension."
   ]
  }
 ],
 "metadata": {
  "kernelspec": {
   "display_name": "Python 3",
   "language": "python",
   "name": "python3"
  },
  "language_info": {
   "codemirror_mode": {
    "name": "ipython",
    "version": 3
   },
   "file_extension": ".py",
   "mimetype": "text/x-python",
   "name": "python",
   "nbconvert_exporter": "python",
   "pygments_lexer": "ipython3",
   "version": "3.6.5"
  }
 },
 "nbformat": 4,
 "nbformat_minor": 2
}
