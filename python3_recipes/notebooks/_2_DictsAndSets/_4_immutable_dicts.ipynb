{
 "cells": [
  {
   "cell_type": "markdown",
   "metadata": {},
   "source": [
    "## Problem\n",
    "- we work at a bank and we have a HUGE dict mapping client names to their accounts balance\n",
    "- we would like to expose that dict to some function with read-only access to the information.\n",
    "- How to accomplish that in without compromising neither memory-efficiency nor security?"
   ]
  },
  {
   "cell_type": "code",
   "execution_count": 27,
   "metadata": {},
   "outputs": [],
   "source": [
    "# for the sake of this recipe let's assume this dict was huge with millions of records and took lots of space in memory.\n",
    "clients_balance = {'Junior': -50., 'Amy': 300., 'Zak': 500., 'Will': 0., 'Emilie': 1000.}\n",
    "\n",
    "def send_reminder(clients_balance, threshold=0.):    \n",
    "    for client, balance in clients_balance.items():   \n",
    "        if balance <= threshold:\n",
    "            print(f'\\t Sending [REMINDER] to {client}: balance={balance} <= threshold={threshold}')\n",
    "    \n",
    "    ### MALICIOUS CODE: ####\n",
    "    # Junior works at the bank and has an account,\n",
    "    # He injects some malicious instructions to credit his account in a function meant for read-only purpose\n",
    "    if clients_balance['Junior'] <= threshold:\n",
    "        clients_balance['Junior'] += 1000."
   ]
  },
  {
   "cell_type": "markdown",
   "metadata": {},
   "source": [
    "## Answer\n",
    "- the best way is to use: from types import MappingProxyType"
   ]
  },
  {
   "cell_type": "code",
   "execution_count": 28,
   "metadata": {},
   "outputs": [
    {
     "name": "stdout",
     "output_type": "stream",
     "text": [
      "[BEFORE send_reminder #1] balances={'Junior': -50.0, 'Amy': 300.0, 'Zak': 500.0, 'Will': 0.0, 'Emilie': 1000.0}\n",
      "\t Sending [REMINDER] to Junior: balance=-50.0 <= threshold=0.0\n",
      "\t Sending [REMINDER] to Will: balance=0.0 <= threshold=0.0\n",
      "[AFTER send_reminder #1] balances={'Junior': 950.0, 'Amy': 300.0, 'Zak': 500.0, 'Will': 0.0, 'Emilie': 1000.0}\n",
      "---\n",
      "[BEFORE send_reminder #2] balances={'Junior': 950.0, 'Amy': 300.0, 'Zak': 500.0, 'Will': 0.0, 'Emilie': 1000.0}\n",
      "\t Sending [REMINDER] to Amy: balance=-10.0 <= threshold=0.0\n",
      "\t Sending [REMINDER] to Will: balance=0.0 <= threshold=0.0\n",
      "[AFTER send_reminder #2] balances={'Junior': 950.0, 'Amy': -10.0, 'Zak': 500.0, 'Will': 0.0, 'Emilie': 1000.0}\n"
     ]
    }
   ],
   "source": [
    "# BAD WAY 1: Compromising security\n",
    "clients_balance = {'Junior': -50., 'Amy': 300., 'Zak': 500., 'Will': 0., 'Emilie': 1000.}\n",
    "\n",
    "print(f'[BEFORE send_reminder #1] balances={clients_balance}')\n",
    "send_reminder(clients_balance) #<0> send_reminder can modify client_balances\n",
    "print(f'[AFTER send_reminder #1] balances={clients_balance}') \n",
    "\n",
    "print('---')\n",
    "\n",
    "print(f'[BEFORE send_reminder #2] balances={clients_balance}')\n",
    "clients_balance['Amy'] = -10.\n",
    "send_reminder(clients_balance) #<1> send_reminder no longer sends reminder to Junior\n",
    "print(f'[AFTER send_reminder #2] balances={clients_balance}') "
   ]
  },
  {
   "cell_type": "code",
   "execution_count": 29,
   "metadata": {},
   "outputs": [
    {
     "name": "stdout",
     "output_type": "stream",
     "text": [
      "[BEFORE send_reminder #1] balances={'Junior': -50.0, 'Amy': 300.0, 'Zak': 500.0, 'Will': 0.0, 'Emilie': 1000.0}\n",
      "\t Sending [REMINDER] to Junior: balance=-50.0 <= threshold=0.0\n",
      "\t Sending [REMINDER] to Will: balance=0.0 <= threshold=0.0\n",
      "[AFTER send_reminder #1] balances={'Junior': -50.0, 'Amy': 300.0, 'Zak': 500.0, 'Will': 0.0, 'Emilie': 1000.0}\n",
      "---\n",
      "[BEFORE send_reminder #2] balances={'Junior': -50.0, 'Amy': 300.0, 'Zak': 500.0, 'Will': 0.0, 'Emilie': 1000.0}\n",
      "\t Sending [REMINDER] to Junior: balance=-50.0 <= threshold=0.0\n",
      "\t Sending [REMINDER] to Amy: balance=-10.0 <= threshold=0.0\n",
      "\t Sending [REMINDER] to Will: balance=0.0 <= threshold=0.0\n",
      "[AFTER send_reminder #2] balances={'Junior': -50.0, 'Amy': -10.0, 'Zak': 500.0, 'Will': 0.0, 'Emilie': 1000.0}\n"
     ]
    }
   ],
   "source": [
    "# BAD WAY 2: Compromising memory-efficiency\n",
    "clients_balance = {'Junior': -50., 'Amy': 300., 'Zak': 500., 'Will': 0., 'Emilie': 1000.}\n",
    "\n",
    "print(f'[BEFORE send_reminder #1] balances={clients_balance}')\n",
    "balance_copy = dict(clients_balance)\n",
    "send_reminder(balance_copy) #<2> send_reminder can not modify client_balances since we are passing a copy which is modified by send_reminder but not the real balance mapping.\n",
    "print(f'[AFTER send_reminder #1] balances={clients_balance}') \n",
    "\n",
    "print('---')\n",
    "\n",
    "print(f'[BEFORE send_reminder #2] balances={clients_balance}')\n",
    "clients_balance['Amy'] = -10.\n",
    "balance_copy = dict(clients_balance)\n",
    "send_reminder(balance_copy) #<3> send_reminder still sends reminder to Junior\n",
    "print(f'[AFTER send_reminder #2] balances={clients_balance}')"
   ]
  },
  {
   "cell_type": "code",
   "execution_count": 33,
   "metadata": {},
   "outputs": [
    {
     "name": "stdout",
     "output_type": "stream",
     "text": [
      "[BEFORE send_reminder #1] balances={'Junior': -50.0, 'Amy': 300.0, 'Zak': 500.0, 'Will': 0.0, 'Emilie': 1000.0}\n",
      "\t Sending [REMINDER] to Junior: balance=-50.0 <= threshold=0.0\n",
      "\t Sending [REMINDER] to Will: balance=0.0 <= threshold=0.0\n"
     ]
    },
    {
     "ename": "TypeError",
     "evalue": "'mappingproxy' object does not support item assignment",
     "traceback": [
      "\u001b[0;31m---------------------------------------------------------------------------\u001b[0m",
      "\u001b[0;31mTypeError\u001b[0m                                 Traceback (most recent call last)",
      "\u001b[0;32m<ipython-input-33-6bfb7e0c782a>\u001b[0m in \u001b[0;36m<module>\u001b[0;34m\u001b[0m\n\u001b[1;32m      6\u001b[0m \u001b[0mprint\u001b[0m\u001b[0;34m(\u001b[0m\u001b[0;34mf'[BEFORE send_reminder #1] balances={clients_balance}'\u001b[0m\u001b[0;34m)\u001b[0m\u001b[0;34m\u001b[0m\u001b[0m\n\u001b[1;32m      7\u001b[0m \u001b[0mreadonly_balance_copy\u001b[0m \u001b[0;34m=\u001b[0m \u001b[0mMappingProxyType\u001b[0m\u001b[0;34m(\u001b[0m\u001b[0mclients_balance\u001b[0m\u001b[0;34m)\u001b[0m \u001b[0;31m#<4> create a read-only copy but dynamic view of the original clients_balance\u001b[0m\u001b[0;34m\u001b[0m\u001b[0m\n\u001b[0;32m----> 8\u001b[0;31m \u001b[0msend_reminder\u001b[0m\u001b[0;34m(\u001b[0m\u001b[0mreadonly_balance_copy\u001b[0m\u001b[0;34m)\u001b[0m \u001b[0;31m#<5> raises an exception since the malicious code is trying to edit the readonly_balance_copy\u001b[0m\u001b[0;34m\u001b[0m\u001b[0m\n\u001b[0m",
      "\u001b[0;32m<ipython-input-27-d1da6ad364c3>\u001b[0m in \u001b[0;36msend_reminder\u001b[0;34m(clients_balance, threshold)\u001b[0m\n\u001b[1;32m     11\u001b[0m     \u001b[0;31m# He injects some malicious instructions to credit his account in a function meant for read-only purpose\u001b[0m\u001b[0;34m\u001b[0m\u001b[0;34m\u001b[0m\u001b[0m\n\u001b[1;32m     12\u001b[0m     \u001b[0;32mif\u001b[0m \u001b[0mclients_balance\u001b[0m\u001b[0;34m[\u001b[0m\u001b[0;34m'Junior'\u001b[0m\u001b[0;34m]\u001b[0m \u001b[0;34m<=\u001b[0m \u001b[0mthreshold\u001b[0m\u001b[0;34m:\u001b[0m\u001b[0;34m\u001b[0m\u001b[0m\n\u001b[0;32m---> 13\u001b[0;31m         \u001b[0mclients_balance\u001b[0m\u001b[0;34m[\u001b[0m\u001b[0;34m'Junior'\u001b[0m\u001b[0;34m]\u001b[0m \u001b[0;34m+=\u001b[0m \u001b[0;36m1000.\u001b[0m\u001b[0;34m\u001b[0m\u001b[0m\n\u001b[0m",
      "\u001b[0;31mTypeError\u001b[0m: 'mappingproxy' object does not support item assignment"
     ],
     "output_type": "error"
    }
   ],
   "source": [
    "# GOOD WAY: preserving both memory-efficiency and security\n",
    "from types import MappingProxyType\n",
    "\n",
    "clients_balance = {'Junior': -50., 'Amy': 300., 'Zak': 500., 'Will': 0., 'Emilie': 1000.}\n",
    "\n",
    "print(f'[BEFORE send_reminder #1] balances={clients_balance}')\n",
    "readonly_balance_copy = MappingProxyType(clients_balance) #<4> create a read-only copy but dynamic view of the original clients_balance\n",
    "send_reminder(readonly_balance_copy) #<5> raises an exception since the malicious code is trying to edit the readonly_balance_copy\n"
   ]
  },
  {
   "cell_type": "code",
   "execution_count": 34,
   "metadata": {},
   "outputs": [
    {
     "name": "stdout",
     "output_type": "stream",
     "text": [
      "readonly_balance_copy = {'Junior': -50.0, 'Amy': 300.0, 'Zak': 500.0, 'Will': 0.0, 'Emilie': 1000.0}\n",
      "readonly_balance_copy = {'Junior': -50.0, 'Amy': -10.0, 'Zak': 500.0, 'Will': 0.0, 'Emilie': 1000.0}\n"
     ]
    }
   ],
   "source": [
    "print(f'readonly_balance_copy = {readonly_balance_copy}')\n",
    "clients_balance['Amy'] = -10. #<6>\n",
    "print(f'readonly_balance_copy = {readonly_balance_copy}') #<7> the changes on clients_balance are replicated on readonly_balance_copy dynamically."
   ]
  },
  {
   "cell_type": "markdown",
   "metadata": {},
   "source": [
    "## Discussion\n",
    "- <0> send_reminder can modify client_balances since we are passing a dict which is a mutable object\n",
    "- <1> send_reminder no longer sends reminder to Junior since the previous call credited his account of 1000. \n",
    "- <2> send_reminder can not modify client_balances since we are passing a copy which is modified by send_reminder but not the real balance mapping\n",
    "- <3> send_reminder still sends reminder to Junior\n",
    "- <4, 5> MappingProxyType creates a read-only dict from the original (ie: write operations raise exceptions)\n",
    "- <6, 7> The dict created by MappingProxyType is read-only but also dynamic as the changes on the original one are replicated seemlessly, so it's not copying the values but just restricting some methods of the dict class: Providing both security and memory-efficiency."
   ]
  }
 ],
 "metadata": {
  "kernelspec": {
   "display_name": "Python 3",
   "language": "python",
   "name": "python3"
  },
  "language_info": {
   "codemirror_mode": {
    "name": "ipython",
    "version": 3
   },
   "file_extension": ".py",
   "mimetype": "text/x-python",
   "name": "python",
   "nbconvert_exporter": "python",
   "pygments_lexer": "ipython3",
   "version": "3.6.5"
  }
 },
 "nbformat": 4,
 "nbformat_minor": 2
}
