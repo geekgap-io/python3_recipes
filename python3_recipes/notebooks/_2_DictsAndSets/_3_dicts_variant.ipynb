{
 "cells": [
  {
   "cell_type": "markdown",
   "metadata": {},
   "source": [
    "## Problem\n",
    "- Let's say you have a list comments made on a blog post, and you want to know the top 3 Users with the most number of comments.\n",
    "- How to accomplish that in the most pythonic way possible?"
   ]
  },
  {
   "cell_type": "code",
   "execution_count": 1,
   "metadata": {},
   "outputs": [
    {
     "name": "stdout",
     "output_type": "stream",
     "text": [
      "comments_authors = ['Junior', 'Zak', 'Amy', 'Junior', 'Paul', 'Ralf', 'Becca', 'Zak', 'Simon', 'Zak', 'Becca', 'Junior', 'Matt', 'Ali', 'Becca', 'Junior', 'Amy', 'Becca']\n"
     ]
    }
   ],
   "source": [
    "from collections import namedtuple\n",
    "Comment = namedtuple('Comment', ['author', 'content'])\n",
    "\n",
    "comments = [\n",
    "    Comment(author='Junior', content='Python3 is awesome'),\n",
    "    Comment(author='Zak', content='Yeah I agree'),\n",
    "    Comment(author='Amy', content='Indeed'),\n",
    "    Comment(author='Junior', content='Python3 beats Python2'),\n",
    "    Comment(author='Paul', content='Sure'),\n",
    "    Comment(author='Ralf', content='Yeah I agree'),\n",
    "    Comment(author='Becca', content='Yeah I agree'),\n",
    "    Comment(author='Zak', content='Yeah I agree'),\n",
    "    Comment(author='Simon', content='Yeah I agree'),\n",
    "    Comment(author='Zak', content='Yeah I agree'),\n",
    "    Comment(author='Becca', content='Yeah I agree'),\n",
    "    Comment(author='Junior', content='Yeah I agree'),\n",
    "    Comment(author='Matt', content='Yeah I agree'),\n",
    "    Comment(author='Ali', content='Yeah I agree'),\n",
    "    Comment(author='Becca', content='Yeah I agree'),\n",
    "    Comment(author='Junior', content='Yeah I agree'),\n",
    "    Comment(author='Amy', content='Yeah I agree'),\n",
    "    Comment(author='Becca', content='We all agree then :)')\n",
    "]\n",
    "\n",
    "comments_authors = [comment.author for comment in comments]\n",
    "print(f'comments_authors = {comments_authors}')"
   ]
  },
  {
   "cell_type": "markdown",
   "metadata": {},
   "source": [
    "## Answer\n",
    "- The most Pythonic way is to use collections.Counter"
   ]
  },
  {
   "cell_type": "code",
   "execution_count": 7,
   "metadata": {},
   "outputs": [
    {
     "name": "stdout",
     "output_type": "stream",
     "text": [
      "authors_count = defaultdict(<class 'int'>, {'Junior': 4, 'Zak': 3, 'Amy': 2, 'Paul': 1, 'Ralf': 1, 'Becca': 4, 'Simon': 1, 'Matt': 1, 'Ali': 1})\n",
      "sorted_authors = [('Junior', 4), ('Becca', 4), ('Zak', 3), ('Amy', 2), ('Paul', 1), ('Ralf', 1), ('Simon', 1), ('Matt', 1), ('Ali', 1)]\n",
      "top3 = [('Junior', 4), ('Becca', 4), ('Zak', 3)]\n"
     ]
    }
   ],
   "source": [
    "# BAD WAY: to much of boilerplate\n",
    "\n",
    "from collections import defaultdict\n",
    "\n",
    "authors_count = defaultdict(int) #<0>\n",
    "\n",
    "for author in comments_authors:\n",
    "    authors_count[author] += 1 #<0>\n",
    "print(f'authors_count = {authors_count}')\n",
    "\n",
    "sorted_authors = sorted(authors_count.items(), key=lambda el: el[1], reverse=True) #<1>\n",
    "print(f'sorted_authors = {sorted_authors}')\n",
    "\n",
    "top3 = sorted_authors[:3]\n",
    "print(f'top3 = {top3}')"
   ]
  },
  {
   "cell_type": "code",
   "execution_count": 8,
   "metadata": {},
   "outputs": [
    {
     "name": "stdout",
     "output_type": "stream",
     "text": [
      "authors_count = Counter({'Junior': 4, 'Becca': 4, 'Zak': 3, 'Amy': 2, 'Paul': 1, 'Ralf': 1, 'Simon': 1, 'Matt': 1, 'Ali': 1})\n",
      "top3 = [('Junior', 4), ('Becca', 4), ('Zak', 3)]\n"
     ]
    }
   ],
   "source": [
    "# GOOD WAY: using collections.Counter\n",
    "\n",
    "from collections import Counter\n",
    "\n",
    "authors_count = Counter(comments_authors) #<2>\n",
    "print(f'authors_count = {authors_count}')\n",
    "\n",
    "top3 = authors_count.most_common(3)  #<3>\n",
    "print(f'top3 = {top3}')"
   ]
  },
  {
   "cell_type": "markdown",
   "metadata": {},
   "source": [
    "## Discussion\n",
    "- <0> using defaultdict allows us to auto-initialize keys to an integer value of 0 if missing. (ref: 3.2)\n",
    "- <1> items() return a list of (author, count) tuples that we sort in descending order (via reverse=True) based on the count (via key=lambda el: el[1])\n",
    "- <2, 3> building the authors_count Lookup Table via Counter instead of dict we can find the top3 comment authors in just 2 steps."
   ]
  },
  {
   "cell_type": "code",
   "execution_count": null,
   "metadata": {},
   "outputs": [],
   "source": []
  },
  {
   "cell_type": "markdown",
   "metadata": {},
   "source": [
    "## Problem\n",
    "- You are keeping track of a dict of average daily reviews for each movie, and one per day.\n",
    "- How to know if a movie has ever been reviewed in the most Pythonic way regardless of the review day?"
   ]
  },
  {
   "cell_type": "code",
   "execution_count": 24,
   "metadata": {},
   "outputs": [],
   "source": [
    "daily_avg_reviews = {\n",
    "    '01-Jan-2019': {'Python3 beats Python2': 3.5, 'Python2 end game': 4.7},\n",
    "    '02-Jan-2019': {'Python2 end game': 3.9},\n",
    "    '03-Jan-2019': {'Python3 beats Python2': 4.5},\n",
    "    '04-Jan-2019': {'Python3 is the future': 5.0, 'Python2 end game': 4.1},\n",
    "}\n",
    "\n",
    "all_movies = [\n",
    "    'Python3 beats Python2',\n",
    "    'Python2 end game',\n",
    "    'Python3 is the future Season 2',\n",
    "    'Python3 is the future',\n",
    "    'dummy movie',\n",
    "]"
   ]
  },
  {
   "cell_type": "markdown",
   "metadata": {},
   "source": [
    "## Answer\n",
    "- The most Pythonic way is to use collections.ChainMap"
   ]
  },
  {
   "cell_type": "code",
   "execution_count": 25,
   "metadata": {},
   "outputs": [
    {
     "name": "stdout",
     "output_type": "stream",
     "text": [
      "[HIT] - [Python3 beats Python2] has been reviewed !\n",
      "[HIT] - [Python2 end game] has been reviewed !\n",
      "[MISS] - [Python3 is the future Season 2] has NEVER been reviewed !\n",
      "[HIT] - [Python3 is the future] has been reviewed !\n",
      "[MISS] - [dummy movie] has NEVER been reviewed !\n"
     ]
    }
   ],
   "source": [
    "# BAD WAY: not the most pythonic\n",
    "\n",
    "for movie_name in all_movies:\n",
    "    for day, day_reviews_dict in daily_avg_reviews.items():\n",
    "        if movie_name in day_reviews_dict:\n",
    "            print(f'[HIT] - [{movie_name}] has been reviewed !')\n",
    "            break\n",
    "    else:\n",
    "        print(f'[MISS] - [{movie_name}] has NEVER been reviewed !')"
   ]
  },
  {
   "cell_type": "code",
   "execution_count": 26,
   "metadata": {},
   "outputs": [
    {
     "name": "stdout",
     "output_type": "stream",
     "text": [
      "chained_lookup = ChainMap({'Python3 beats Python2': 3.5, 'Python2 end game': 4.7}, {'Python2 end game': 3.9}, {'Python3 beats Python2': 4.5}, {'Python3 is the future': 5.0, 'Python2 end game': 4.1})\n",
      "\n",
      "[HIT] - [Python3 beats Python2] has been reviewed !\n",
      "[HIT] - [Python2 end game] has been reviewed !\n",
      "[MISS] - [Python3 is the future Season 2] has NEVER been reviewed !\n",
      "[HIT] - [Python3 is the future] has been reviewed !\n",
      "[MISS] - [dummy movie] has NEVER been reviewed !\n"
     ]
    }
   ],
   "source": [
    "# GOOD WAY: Using ChainMap\n",
    "from collections import ChainMap\n",
    "\n",
    "all_days_reviews_dicts = daily_avg_reviews.values() #<0>\n",
    "chained_lookup = ChainMap(*all_days_reviews_dicts)  #<1>\n",
    "\n",
    "print(f'chained_lookup = {chained_lookup}')\n",
    "print()\n",
    "\n",
    "for movie_name in all_movies:\n",
    "    if movie_name in chained_lookup: #<2>\n",
    "        print(f'[HIT] - [{movie_name}] has been reviewed !')\n",
    "    else:\n",
    "        print(f'[MISS] - [{movie_name}] has NEVER been reviewed !')"
   ]
  },
  {
   "cell_type": "markdown",
   "metadata": {},
   "source": [
    "## Discussion\n",
    "- <0> building an iterator made of all the individual daily average reviews dicts\n",
    "- <1> passing all the individual daily average reviews dicts to ChainMap to \"emulate\" a single \"meta\" dict from them. \n",
    "- <2> using the in operator on the chained_lookup finds a given key in each of the individual dict sequentially and returns True if one of them contains the key."
   ]
  },
  {
   "cell_type": "code",
   "execution_count": null,
   "metadata": {},
   "outputs": [],
   "source": []
  },
  {
   "cell_type": "markdown",
   "metadata": {},
   "source": [
    "## Problem\n",
    "- we have the same dict above mapping days to daily_avg_reviews per movie with the keys sorted by dates and we would like the order to be preserved every time we insert a new day or remove an existing one.\n"
   ]
  },
  {
   "cell_type": "markdown",
   "metadata": {},
   "source": [
    "## Answer\n",
    "- Using collections.OrederedDict it is possible to have key-ordered lookup table."
   ]
  },
  {
   "cell_type": "code",
   "execution_count": 34,
   "metadata": {},
   "outputs": [
    {
     "name": "stdout",
     "output_type": "stream",
     "text": [
      "keys insertion order preserved during = ['01-Jan-2019', '02-Jan-2019', '03-Jan-2019', '04-Jan-2019']\n",
      "keys order preserved after delete = ['01-Jan-2019', '02-Jan-2019', '03-Jan-2019']\n"
     ]
    }
   ],
   "source": [
    "# <0>\n",
    "from collections import OrderedDict\n",
    "\n",
    "daily_avg_reviews = OrderedDict()\n",
    "daily_avg_reviews['01-Jan-2019'] = {'Python3 beats Python2': 3.5, 'Python2 end game': 4.7}\n",
    "daily_avg_reviews['02-Jan-2019'] = {'Python2 end game': 3.9}\n",
    "daily_avg_reviews['03-Jan-2019'] = {'Python3 beats Python2': 4.5}\n",
    "daily_avg_reviews['04-Jan-2019'] = {'Python3 is the future': 5.0, 'Python2 end game': 4.1}\n",
    "\n",
    "print(f'keys insertion order preserved during = {list(daily_avg_reviews.keys())}')\n",
    "\n",
    "del daily_avg_reviews['04-Jan-2019']\n",
    "print(f'keys order preserved after delete = {list(daily_avg_reviews.keys())}')"
   ]
  },
  {
   "cell_type": "markdown",
   "metadata": {},
   "source": [
    "## Discussion\n",
    "- <0> OrderedDict preserves keys insertion order. However, They consume more than twice the memory space required by a normal dict as they use linked-lists under the hood to maintain the order so they should be use carefully."
   ]
  }
 ],
 "metadata": {
  "kernelspec": {
   "display_name": "Python 3",
   "language": "python",
   "name": "python3"
  },
  "language_info": {
   "codemirror_mode": {
    "name": "ipython",
    "version": 3
   },
   "file_extension": ".py",
   "mimetype": "text/x-python",
   "name": "python",
   "nbconvert_exporter": "python",
   "pygments_lexer": "ipython3",
   "version": "3.6.5"
  }
 },
 "nbformat": 4,
 "nbformat_minor": 2
}
