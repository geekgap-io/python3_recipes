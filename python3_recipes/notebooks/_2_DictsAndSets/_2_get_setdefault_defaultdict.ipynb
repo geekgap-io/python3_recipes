{
 "cells": [
  {
   "cell_type": "markdown",
   "metadata": {},
   "source": [
    "## Problem\n",
    "- Let's say we are maintaining a mapping of key-value pairs, with the key being the name of a movie and the value being the list of reviews for that movie.\n",
    "- How do we check the number of reviews, insert a new a review for a given movie in the most \"pythonic\" way possible?"
   ]
  },
  {
   "cell_type": "code",
   "execution_count": 6,
   "metadata": {},
   "outputs": [],
   "source": [
    "all_movie_names = ['Python3 beats Python2', 'Python2 end game', 'Python3 is the future']\n",
    "\n",
    "# mapping of reviewed movies only\n",
    "movie_reviews = {\n",
    "    'Python2 end game': [4.2, 5.0, 3.9, 2.5],\n",
    "    'Python3 beats Python2': [2.3, 4.2, 4.9]\n",
    "}"
   ]
  },
  {
   "cell_type": "markdown",
   "metadata": {},
   "source": [
    "## Answer\n",
    "- use .get(), .setdefault(), and defaultdict() wisely"
   ]
  },
  {
   "cell_type": "markdown",
   "metadata": {},
   "source": [
    "#### 0. getting the number of reviews per movie"
   ]
  },
  {
   "cell_type": "code",
   "execution_count": 7,
   "metadata": {},
   "outputs": [
    {
     "name": "stdout",
     "output_type": "stream",
     "text": [
      "[Python3 beats Python2] was reviewd [3] times\n",
      "[Python2 end game] was reviewd [4] times\n"
     ]
    },
    {
     "ename": "KeyError",
     "evalue": "'Python3 is the future'",
     "traceback": [
      "\u001b[0;31m---------------------------------------------------------------------------\u001b[0m",
      "\u001b[0;31mKeyError\u001b[0m                                  Traceback (most recent call last)",
      "\u001b[0;32m<ipython-input-7-4d87e107715d>\u001b[0m in \u001b[0;36m<module>\u001b[0;34m\u001b[0m\n\u001b[1;32m      1\u001b[0m \u001b[0;31m# BAD WAY: since does not handle the case where the movie has not yet been reviewed\u001b[0m\u001b[0;34m\u001b[0m\u001b[0;34m\u001b[0m\u001b[0m\n\u001b[1;32m      2\u001b[0m \u001b[0;32mfor\u001b[0m \u001b[0mmovie\u001b[0m \u001b[0;32min\u001b[0m \u001b[0mall_movie_names\u001b[0m\u001b[0;34m:\u001b[0m\u001b[0;34m\u001b[0m\u001b[0m\n\u001b[0;32m----> 3\u001b[0;31m     \u001b[0mcount\u001b[0m \u001b[0;34m=\u001b[0m \u001b[0mlen\u001b[0m\u001b[0;34m(\u001b[0m\u001b[0mmovie_reviews\u001b[0m\u001b[0;34m[\u001b[0m\u001b[0mmovie\u001b[0m\u001b[0;34m]\u001b[0m\u001b[0;34m)\u001b[0m \u001b[0;31m#<0>\u001b[0m\u001b[0;34m\u001b[0m\u001b[0m\n\u001b[0m\u001b[1;32m      4\u001b[0m     \u001b[0mprint\u001b[0m\u001b[0;34m(\u001b[0m\u001b[0;34mf'[{movie}] was reviewd [{count}] times'\u001b[0m\u001b[0;34m)\u001b[0m\u001b[0;34m\u001b[0m\u001b[0m\n",
      "\u001b[0;31mKeyError\u001b[0m: 'Python3 is the future'"
     ],
     "output_type": "error"
    }
   ],
   "source": [
    "# BAD WAY: since does not handle the case where the movie has not yet been reviewed\n",
    "for movie in all_movie_names:\n",
    "    count = len(movie_reviews[movie]) #<0>\n",
    "    print(f'[{movie}] was reviewed [{count}] times')"
   ]
  },
  {
   "cell_type": "code",
   "execution_count": 8,
   "metadata": {},
   "outputs": [
    {
     "name": "stdout",
     "output_type": "stream",
     "text": [
      "[Python3 beats Python2] was reviewd [3] times\n",
      "[Python2 end game] was reviewd [4] times\n",
      "[Python3 is the future] was reviewd [0] times\n"
     ]
    }
   ],
   "source": [
    "# BAD WAY: does the job but is not very pythonic\n",
    "for movie in all_movie_names:\n",
    "    try:\n",
    "        count = len(movie_reviews[movie])\n",
    "    except KeyError:\n",
    "        count = 0\n",
    "    print(f'[{movie}] was reviewed [{count}] times')"
   ]
  },
  {
   "cell_type": "code",
   "execution_count": 10,
   "metadata": {},
   "outputs": [
    {
     "name": "stdout",
     "output_type": "stream",
     "text": [
      "[Python3 beats Python2] was reviewd [3] times\n",
      "[Python2 end game] was reviewd [4] times\n",
      "[Python3 is the future] was reviewd [0] times\n"
     ]
    }
   ],
   "source": [
    "# GOOD WAY: does the job and is pythonic\n",
    "for movie in all_movie_names:\n",
    "    count = len(movie_reviews.get(movie, [])) #<1>\n",
    "    print(f'[{movie}] was reviewd [{count}] times')"
   ]
  },
  {
   "cell_type": "markdown",
   "metadata": {},
   "source": [
    "#### 1. Insert a new review for an already or not yet reviewed movie\n",
    "- let's say a user reviewed all the movies and gave a score of 4.0 to all of them."
   ]
  },
  {
   "cell_type": "code",
   "execution_count": 12,
   "metadata": {},
   "outputs": [
    {
     "name": "stdout",
     "output_type": "stream",
     "text": [
      "{'Python2 end game': [4.2, 5.0, 3.9, 2.5, 4.0], 'Python3 beats Python2': [2.3, 4.2, 4.9, 4.0], 'Python3 is the future': [4.0]}\n"
     ]
    }
   ],
   "source": [
    "# BAD WAY: not pythonic at all.\n",
    "movie_reviews = {\n",
    "    'Python2 end game': [4.2, 5.0, 3.9, 2.5],\n",
    "    'Python3 beats Python2': [2.3, 4.2, 4.9]\n",
    "}\n",
    "\n",
    "for movie in all_movie_names:\n",
    "    if movie in movie_reviews: # case where the movie has already been reviewed\n",
    "        movie_reviews[movie].append(4.0)\n",
    "    else:\n",
    "        movie_reviews[movie] = [4.0]\n",
    "\n",
    "print(movie_reviews)"
   ]
  },
  {
   "cell_type": "code",
   "execution_count": 13,
   "metadata": {},
   "outputs": [
    {
     "name": "stdout",
     "output_type": "stream",
     "text": [
      "{'Python2 end game': [4.2, 5.0, 3.9, 2.5, 4.0], 'Python3 beats Python2': [2.3, 4.2, 4.9, 4.0], 'Python3 is the future': [4.0]}\n"
     ]
    }
   ],
   "source": [
    "# GOOD WAY: but could be better.\n",
    "movie_reviews = {\n",
    "    'Python2 end game': [4.2, 5.0, 3.9, 2.5],\n",
    "    'Python3 beats Python2': [2.3, 4.2, 4.9]\n",
    "}\n",
    "\n",
    "for movie in all_movie_names:\n",
    "    movie_reviews.setdefault(movie, []).append(4.0) #<2>\n",
    "\n",
    "print(movie_reviews)"
   ]
  },
  {
   "cell_type": "code",
   "execution_count": 19,
   "metadata": {},
   "outputs": [
    {
     "name": "stdout",
     "output_type": "stream",
     "text": [
      "[]\n",
      "defaultdict(<class 'list'>, {'crazy movie': []})\n",
      "defaultdict(<class 'list'>, {'crazy movie': [], 'Python2 end game': [4.2, 5.0, 3.9, 2.5], 'Python3 beats Python2': [2.3, 4.2, 4.9]})\n",
      "defaultdict(<class 'list'>, {'crazy movie': [], 'Python2 end game': [4.2, 5.0, 3.9, 2.5, 4.0], 'Python3 beats Python2': [2.3, 4.2, 4.9, 4.0], 'Python3 is the future': [4.0]})\n"
     ]
    }
   ],
   "source": [
    "# BEST WAY: \n",
    "from collections import defaultdict\n",
    "\n",
    "movie_reviews = defaultdict(list) #<3>\n",
    "print(movie_reviews['crazy movie']) #<3>\n",
    "print(movie_reviews)\n",
    "\n",
    "movie_reviews['Python2 end game'] = [4.2, 5.0, 3.9, 2.5]\n",
    "movie_reviews['Python3 beats Python2'] = [2.3, 4.2, 4.9]\n",
    "print(movie_reviews)\n",
    "\n",
    "\n",
    "for movie in all_movie_names:\n",
    "    movie_reviews[movie].append(4.0) #<4>\n",
    "\n",
    "print(movie_reviews)"
   ]
  },
  {
   "cell_type": "markdown",
   "metadata": {},
   "source": [
    "## Discussion\n",
    "- <0> using the indexing syntax to get an item in a dictionary raise an exception if the key is not found.\n",
    "- <1> the .get() method enables to return a default value if the key was not found.\n",
    "- <2> .setdefault() would insert the key with the provided default value if not yet in the dict\n",
    "- <3> telling python that every value in this dict should be initialized to the empty list if accessed for the first time\n",
    "- <4> since the values are all list we are free to append without worries even if the key is not yet in the dict."
   ]
  }
 ],
 "metadata": {
  "kernelspec": {
   "display_name": "Python 3",
   "language": "python",
   "name": "python3"
  },
  "language_info": {
   "codemirror_mode": {
    "name": "ipython",
    "version": 3
   },
   "file_extension": ".py",
   "mimetype": "text/x-python",
   "name": "python",
   "nbconvert_exporter": "python",
   "pygments_lexer": "ipython3",
   "version": "3.6.5"
  }
 },
 "nbformat": 4,
 "nbformat_minor": 2
}
