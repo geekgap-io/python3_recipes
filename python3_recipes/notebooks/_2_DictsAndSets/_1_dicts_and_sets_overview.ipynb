{
 "cells": [
  {
   "cell_type": "markdown",
   "metadata": {},
   "source": [
    "## Problem\n",
    "- How to create them?\n",
    "- When are dicts and sets useful?\n",
    "- How do they compare to sequential containers (list, tuple, deque etc...) ?"
   ]
  },
  {
   "cell_type": "markdown",
   "metadata": {},
   "source": [
    "## Answer\n",
    "- dicts and sets are useful to create lookup tables where we want to access/edit an item within in constant time."
   ]
  },
  {
   "cell_type": "markdown",
   "metadata": {},
   "source": [
    "#### 0. empty dict/set creation"
   ]
  },
  {
   "cell_type": "code",
   "execution_count": 20,
   "metadata": {},
   "outputs": [],
   "source": [
    "d = dict()  #OR d = {}\n",
    "s = set()"
   ]
  },
  {
   "cell_type": "code",
   "execution_count": 19,
   "metadata": {},
   "outputs": [
    {
     "name": "stdout",
     "output_type": "stream",
     "text": [
      "['__class__', '__contains__', '__delattr__', '__delitem__', '__dir__', '__doc__', '__eq__', '__format__', '__ge__', '__getattribute__', '__getitem__', '__gt__', '__hash__', '__init__', '__init_subclass__', '__iter__', '__le__', '__len__', '__lt__', '__ne__', '__new__', '__reduce__', '__reduce_ex__', '__repr__', '__setattr__', '__setitem__', '__sizeof__', '__str__', '__subclasshook__', 'clear', 'copy', 'fromkeys', 'get', 'items', 'keys', 'pop', 'popitem', 'setdefault', 'update', 'values']\n"
     ]
    }
   ],
   "source": [
    "print(dir(d))"
   ]
  },
  {
   "cell_type": "code",
   "execution_count": 3,
   "metadata": {},
   "outputs": [
    {
     "name": "stdout",
     "output_type": "stream",
     "text": [
      "['__and__', '__class__', '__contains__', '__delattr__', '__dir__', '__doc__', '__eq__', '__format__', '__ge__', '__getattribute__', '__gt__', '__hash__', '__iand__', '__init__', '__init_subclass__', '__ior__', '__isub__', '__iter__', '__ixor__', '__le__', '__len__', '__lt__', '__ne__', '__new__', '__or__', '__rand__', '__reduce__', '__reduce_ex__', '__repr__', '__ror__', '__rsub__', '__rxor__', '__setattr__', '__sizeof__', '__str__', '__sub__', '__subclasshook__', '__xor__', 'add', 'clear', 'copy', 'difference', 'difference_update', 'discard', 'intersection', 'intersection_update', 'isdisjoint', 'issubset', 'issuperset', 'pop', 'remove', 'symmetric_difference', 'symmetric_difference_update', 'union', 'update']\n"
     ]
    }
   ],
   "source": [
    "print(dir(s))"
   ]
  },
  {
   "cell_type": "markdown",
   "metadata": {},
   "source": [
    "#### 1. keys"
   ]
  },
  {
   "cell_type": "code",
   "execution_count": 4,
   "metadata": {},
   "outputs": [
    {
     "name": "stdout",
     "output_type": "stream",
     "text": [
      "hash(str_key) = 1835450757564551705,  hash(int_key) = 1, hash(tuple_key) = -4999851162281619144\n"
     ]
    },
    {
     "ename": "TypeError",
     "evalue": "unhashable type: 'list'",
     "output_type": "error",
     "traceback": [
      "\u001b[0;31m---------------------------------------------------------------------------\u001b[0m",
      "\u001b[0;31mTypeError\u001b[0m                                 Traceback (most recent call last)",
      "\u001b[0;32m<ipython-input-4-c270b974214b>\u001b[0m in \u001b[0;36m<module>\u001b[0;34m\u001b[0m\n\u001b[1;32m      7\u001b[0m \u001b[0;34m\u001b[0m\u001b[0m\n\u001b[1;32m      8\u001b[0m \u001b[0mlist_key\u001b[0m \u001b[0;34m=\u001b[0m \u001b[0;34m[\u001b[0m\u001b[0;34m'list'\u001b[0m\u001b[0;34m,\u001b[0m \u001b[0;34m'key'\u001b[0m\u001b[0;34m]\u001b[0m\u001b[0;34m\u001b[0m\u001b[0m\n\u001b[0;32m----> 9\u001b[0;31m \u001b[0mhash\u001b[0m\u001b[0;34m(\u001b[0m\u001b[0mlist_key\u001b[0m\u001b[0;34m)\u001b[0m \u001b[0;31m#<1>\u001b[0m\u001b[0;34m\u001b[0m\u001b[0m\n\u001b[0m",
      "\u001b[0;31mTypeError\u001b[0m: unhashable type: 'list'"
     ]
    }
   ],
   "source": [
    "# everything works as a key as long as they are hashable.\n",
    "# as a general rule of thumb every immutable object can be used a key and mutable ones can't.\n",
    "str_key = 'key'\n",
    "int_key = 1\n",
    "tuple_key = ('tuple', 'key')\n",
    "print(f'hash(str_key) = {hash(str_key)},  hash(int_key) = {hash(int_key)}, hash(tuple_key) = {hash(tuple_key)}') #<0>\n",
    "\n",
    "list_key = ['list', 'key']\n",
    "hash(list_key) #<1>"
   ]
  },
  {
   "cell_type": "markdown",
   "metadata": {},
   "source": [
    "#### 2. insertion in a dict"
   ]
  },
  {
   "cell_type": "code",
   "execution_count": 5,
   "metadata": {},
   "outputs": [
    {
     "name": "stdout",
     "output_type": "stream",
     "text": [
      "d = {'key': 'str_value', 1: 'int_value', ('tuple', 'key'): 'tuple_value'}\n",
      "d.keys() = dict_keys(['key', 1, ('tuple', 'key')])\n",
      "d.values() = dict_values(['str_value', 'int_value', 'tuple_value'])\n",
      "d.items() = dict_items([('key', 'str_value'), (1, 'int_value'), (('tuple', 'key'), 'tuple_value')])\n"
     ]
    }
   ],
   "source": [
    "d[str_key] = 'str_value'; d[int_key] = 'int_value'; d[tuple_key] = 'tuple_value'\n",
    "\n",
    "print(f'd = {d}')\n",
    "print(f'd.keys() = {d.keys()}') #<2>\n",
    "print(f'd.values() = {d.values()}')  #<2>\n",
    "print(f'd.items() = {d.items()}') #<2>"
   ]
  },
  {
   "cell_type": "markdown",
   "metadata": {},
   "source": [
    "#### 3. insertion in a set"
   ]
  },
  {
   "cell_type": "code",
   "execution_count": 6,
   "metadata": {},
   "outputs": [
    {
     "name": "stdout",
     "output_type": "stream",
     "text": [
      "s = {('tuple', 'key'), 'key', 1}\n"
     ]
    }
   ],
   "source": [
    "# sets are just like dicts but with no values\n",
    "s.add(str_key)\n",
    "s.add(int_key)\n",
    "s.add(tuple_key)\n",
    "\n",
    "print(f's = {s}')"
   ]
  },
  {
   "cell_type": "markdown",
   "metadata": {},
   "source": [
    "#### 4. lookup"
   ]
  },
  {
   "cell_type": "code",
   "execution_count": 7,
   "metadata": {},
   "outputs": [
    {
     "name": "stdout",
     "output_type": "stream",
     "text": [
      "True\n",
      "True\n",
      "True\n"
     ]
    }
   ],
   "source": [
    "#<3>\n",
    "print(1 in d) \n",
    "print('key' in d)\n",
    "print(('tuple', 'key') in d)"
   ]
  },
  {
   "cell_type": "code",
   "execution_count": 8,
   "metadata": {},
   "outputs": [
    {
     "name": "stdout",
     "output_type": "stream",
     "text": [
      "True\n",
      "True\n",
      "True\n"
     ]
    }
   ],
   "source": [
    " #<3>\n",
    "print(1 in s) \n",
    "print('key' in s)\n",
    "print(('tuple', 'key') in s)"
   ]
  },
  {
   "cell_type": "code",
   "execution_count": 9,
   "metadata": {},
   "outputs": [
    {
     "name": "stdout",
     "output_type": "stream",
     "text": [
      "False\n",
      "False\n"
     ]
    }
   ],
   "source": [
    "#<3>\n",
    "print(2 in d) \n",
    "print(2 in s)"
   ]
  },
  {
   "cell_type": "markdown",
   "metadata": {},
   "source": [
    "#### 5. deletion"
   ]
  },
  {
   "cell_type": "code",
   "execution_count": 10,
   "metadata": {},
   "outputs": [
    {
     "name": "stdout",
     "output_type": "stream",
     "text": [
      "d = {'key': 'str_value', ('tuple', 'key'): 'tuple_value'}\n",
      "optinal-res-if-key-not-found\n",
      "str_value\n"
     ]
    },
    {
     "ename": "KeyError",
     "evalue": "'key'",
     "output_type": "error",
     "traceback": [
      "\u001b[0;31m---------------------------------------------------------------------------\u001b[0m",
      "\u001b[0;31mKeyError\u001b[0m                                  Traceback (most recent call last)",
      "\u001b[0;32m<ipython-input-10-392858d36530>\u001b[0m in \u001b[0;36m<module>\u001b[0;34m\u001b[0m\n\u001b[1;32m      9\u001b[0m \u001b[0mprint\u001b[0m\u001b[0;34m(\u001b[0m\u001b[0mres\u001b[0m\u001b[0;34m)\u001b[0m\u001b[0;34m\u001b[0m\u001b[0m\n\u001b[1;32m     10\u001b[0m \u001b[0;34m\u001b[0m\u001b[0m\n\u001b[0;32m---> 11\u001b[0;31m \u001b[0md\u001b[0m\u001b[0;34m.\u001b[0m\u001b[0mpop\u001b[0m\u001b[0;34m(\u001b[0m\u001b[0;34m'key'\u001b[0m\u001b[0;34m)\u001b[0m \u001b[0;31m# would raise an exception since the key is not in d and no default return value provided to pop()\u001b[0m\u001b[0;34m\u001b[0m\u001b[0m\n\u001b[0m",
      "\u001b[0;31mKeyError\u001b[0m: 'key'"
     ]
    }
   ],
   "source": [
    "#<4>\n",
    "del d[1]\n",
    "print(f'd = {d}')\n",
    "\n",
    "res = d.pop(1, 'optinal-res-if-key-not-found')\n",
    "print(res)\n",
    "\n",
    "res = d.pop('key',  'optinal-res-if-key-not-found')\n",
    "print(res)\n",
    "\n",
    "d.pop('key') # will raise an exception since the key is not in d and no default return value provided to pop()"
   ]
  },
  {
   "cell_type": "code",
   "execution_count": 11,
   "metadata": {},
   "outputs": [
    {
     "name": "stdout",
     "output_type": "stream",
     "text": [
      "s = {('tuple', 'key'), 'key'}\n",
      "('tuple', 'key')\n"
     ]
    },
    {
     "ename": "TypeError",
     "evalue": "pop() takes no arguments (1 given)",
     "output_type": "error",
     "traceback": [
      "\u001b[0;31m---------------------------------------------------------------------------\u001b[0m",
      "\u001b[0;31mTypeError\u001b[0m                                 Traceback (most recent call last)",
      "\u001b[0;32m<ipython-input-11-812e412f441e>\u001b[0m in \u001b[0;36m<module>\u001b[0;34m\u001b[0m\n\u001b[1;32m      6\u001b[0m \u001b[0mprint\u001b[0m\u001b[0;34m(\u001b[0m\u001b[0mres\u001b[0m\u001b[0;34m)\u001b[0m\u001b[0;34m\u001b[0m\u001b[0m\n\u001b[1;32m      7\u001b[0m \u001b[0;34m\u001b[0m\u001b[0m\n\u001b[0;32m----> 8\u001b[0;31m \u001b[0ms\u001b[0m\u001b[0;34m.\u001b[0m\u001b[0mpop\u001b[0m\u001b[0;34m(\u001b[0m\u001b[0;34m'key'\u001b[0m\u001b[0;34m)\u001b[0m \u001b[0;31m# would raise an exception since set's pop() method takes no argument\u001b[0m\u001b[0;34m\u001b[0m\u001b[0m\n\u001b[0m",
      "\u001b[0;31mTypeError\u001b[0m: pop() takes no arguments (1 given)"
     ]
    }
   ],
   "source": [
    "#<5>\n",
    "s.remove(1)\n",
    "print(f's = {s}')\n",
    "\n",
    "res = s.pop() # Remove and return an arbitrary set element. Raises KeyError if the set is empty.\n",
    "print(res)\n",
    "\n",
    "s.pop('key') # will raise an exception since set's pop() method takes no argument"
   ]
  },
  {
   "cell_type": "markdown",
   "metadata": {},
   "source": [
    "#### 6. set and dict comprehension"
   ]
  },
  {
   "cell_type": "code",
   "execution_count": 12,
   "metadata": {},
   "outputs": [
    {
     "name": "stdout",
     "output_type": "stream",
     "text": [
      "d1 = {'a': 1, 'b': 2, 'c': 3}\n",
      "d2 = {'a': 1, 'b': 2, 'c': 3}\n",
      "d1 == d2 is True\n",
      "d3 = {'a': 1, 'c': 3}\n",
      "d4 = {'b': 2, 'c': 3}\n"
     ]
    }
   ],
   "source": [
    "d1 = dict([('a', 1), ('b', 2), ('c', 3)])\n",
    "d2 = {key:value for (key, value) in [('a', 1), ('b', 2), ('c', 3)]}\n",
    "print(f'd1 = {d1}')\n",
    "print(f'd2 = {d2}')\n",
    "print(f'd1 == d2 is {d1==d2}')\n",
    "\n",
    "# dict comprehension gives more flexibility on the dict initialization\n",
    "d3 = {key:value for (key, value) in [('a', 1), ('b', 2), ('c', 3)] if key != 'b'} \n",
    "print(f'd3 = {d3}')\n",
    "\n",
    "d4 = {key:value for (key, value) in [('a', 1), ('b', 2), ('c', 3)] if value >= 2} \n",
    "print(f'd4 = {d4}')"
   ]
  },
  {
   "cell_type": "code",
   "execution_count": 13,
   "metadata": {},
   "outputs": [
    {
     "name": "stdout",
     "output_type": "stream",
     "text": [
      "s1 = {'c', 'b', 'a'}\n",
      "s2 = {'c', 'b', 'a'}\n",
      "s1 == s2 is True\n",
      "s3 = {'c', 'a'}\n"
     ]
    }
   ],
   "source": [
    "s1 = set(['a', 'b', 'c'])\n",
    "s2 = {key for key in ['a', 'b', 'c']}\n",
    "print(f's1 = {s1}')\n",
    "print(f's2 = {s2}')\n",
    "print(f's1 == s2 is {s1==s2}')\n",
    "\n",
    "# set comprehension gives more flexibility on the set initialization\n",
    "s3 = {key for key in ['a', 'b', 'c'] if key != 'b'} \n",
    "print(f's3 = {s3}')"
   ]
  },
  {
   "cell_type": "markdown",
   "metadata": {},
   "source": [
    "#### 7. proof of performance"
   ]
  },
  {
   "cell_type": "code",
   "execution_count": 14,
   "metadata": {},
   "outputs": [],
   "source": [
    "dim = 10**7\n",
    "l = [i for i in range(dim)]\n",
    "d = {key:None for key in range(dim)}\n",
    "s = {key for key in range(dim)}"
   ]
  },
  {
   "cell_type": "code",
   "execution_count": 15,
   "metadata": {},
   "outputs": [
    {
     "name": "stdout",
     "output_type": "stream",
     "text": [
      "True\n",
      "False\n",
      "CPU times: user 309 ms, sys: 294 ms, total: 603 ms\n",
      "Wall time: 637 ms\n"
     ]
    }
   ],
   "source": [
    "%%time\n",
    "\n",
    "# performance on a list of length = 10^7\n",
    "print(dim - 1 in l)\n",
    "print(dim in l)"
   ]
  },
  {
   "cell_type": "code",
   "execution_count": 16,
   "metadata": {},
   "outputs": [
    {
     "name": "stdout",
     "output_type": "stream",
     "text": [
      "True\n",
      "False\n",
      "CPU times: user 233 µs, sys: 72 µs, total: 305 µs\n",
      "Wall time: 263 µs\n"
     ]
    }
   ],
   "source": [
    "%%time\n",
    "\n",
    "# performance on a dict of length = 10^7\n",
    "print(dim - 1 in d)\n",
    "print(dim in d)"
   ]
  },
  {
   "cell_type": "code",
   "execution_count": 17,
   "metadata": {},
   "outputs": [
    {
     "name": "stdout",
     "output_type": "stream",
     "text": [
      "True\n",
      "False\n",
      "CPU times: user 209 µs, sys: 114 µs, total: 323 µs\n",
      "Wall time: 255 µs\n"
     ]
    }
   ],
   "source": [
    "%%time\n",
    "\n",
    "# performance on a set of length = 10^7\n",
    "print(dim - 1 in s)\n",
    "print(dim in s)"
   ]
  },
  {
   "cell_type": "markdown",
   "metadata": {},
   "source": [
    "## Discussion\n",
    "- <0> most (if not all) immutable objects can be use as dict/set keys\n",
    "- <1> mutable objects can't be use as keys unless they redefine their \\_\\_hash\\_\\_ method\n",
    "- <2> unlike Python2.X, Python3.X  keys(), values() and items() do not return list with a copy of the information but just a memory_view of the existing one. Which makes them safe to use if performance is a concern unlike in Python2.X \n",
    "- <3> dict and set implements the \\_\\_contains\\_\\_ method which enable to in operator to be used to check if a key can be found\n",
    "- <4> deleting an item(key and value) from a dict could be done using del or pop(). pop() has the advantage of returning the deleted key if found, or a default one provided as second parameter if not found, otherwise raise a keyError exception.\n",
    "- <5> deleting a given key from a set should be done with the remove(). set pop() method delete any key at random and returns it."
   ]
  }
 ],
 "metadata": {
  "kernelspec": {
   "display_name": "Python 3",
   "language": "python",
   "name": "python3"
  },
  "language_info": {
   "codemirror_mode": {
    "name": "ipython",
    "version": 3
   },
   "file_extension": ".py",
   "mimetype": "text/x-python",
   "name": "python",
   "nbconvert_exporter": "python",
   "pygments_lexer": "ipython3",
   "version": "3.6.5"
  }
 },
 "nbformat": 4,
 "nbformat_minor": 2
}
