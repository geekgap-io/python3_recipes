{
 "cells": [
  {
   "cell_type": "markdown",
   "metadata": {},
   "source": [
    "## Problem\n",
    "- You have a sequence for which the lenght is known, with each element representing a specific information depending on its index\n",
    "- How do you get access to each piece of information in the sequence without using indexing syntax\n"
   ]
  },
  {
   "cell_type": "markdown",
   "metadata": {},
   "source": [
    "## Answer\n",
    "- Use sequence unpacking"
   ]
  },
  {
   "cell_type": "code",
   "execution_count": 1,
   "metadata": {},
   "outputs": [
    {
     "name": "stdout",
     "output_type": "stream",
     "text": [
      "Junior\n",
      "Python3 is awesome\n",
      "5\n",
      "(8, 5, 2019)\n",
      "Python3 is awesome\n",
      "8\n",
      "5\n",
      "2019\n"
     ]
    }
   ],
   "source": [
    "comment = ('Junior', 'Python3 is awesome', 5, (8, 5, 2019))\n",
    "comment_author, comment_content, likes, date = comment #<0>\n",
    "print(comment_author)\n",
    "print(comment_content)\n",
    "print(likes)\n",
    "print(date)\n",
    "\n",
    "_, comment_content, _, (day, month, year) = comment #<1>\n",
    "print(comment_content)\n",
    "print(day)\n",
    "print(month)\n",
    "print(year)"
   ]
  },
  {
   "cell_type": "markdown",
   "metadata": {},
   "source": [
    "## Discussion\n",
    "- <0> we are able to unpack each specific information according to its position in the sequence\n",
    "- <1> we can even unpack nested elements like the day, month and year in the date and ignore some elements if we want to using underscore _"
   ]
  },
  {
   "cell_type": "code",
   "execution_count": null,
   "metadata": {},
   "outputs": [],
   "source": []
  },
  {
   "cell_type": "markdown",
   "metadata": {},
   "source": [
    "## Problem\n",
    "- You have a sequence for which the lenght is unknown, but you know useful informations are usually located at the ends\n",
    "- How do you get access to the head or tail element of a sequence for which the length is not known\n"
   ]
  },
  {
   "cell_type": "markdown",
   "metadata": {},
   "source": [
    "## Answer\n",
    "-  Use sequence unpacking"
   ]
  },
  {
   "cell_type": "code",
   "execution_count": 2,
   "metadata": {},
   "outputs": [
    {
     "name": "stdout",
     "output_type": "stream",
     "text": [
      "[2.6, 3.1, 4.5, 4.8]\n",
      "2.6\n",
      "4.8\n",
      "[3.1, 4.5]\n",
      "[2.1, 3.4, 3.9, 4.1, 4.2, 4.7, 5.0]\n",
      "2.1\n",
      "5.0\n"
     ]
    }
   ],
   "source": [
    "# getting the best and worse reviews of different movies\n",
    "reviews_movie1 = sorted([3.1, 4.5, 2.6, 4.8]) #<0>\n",
    "reviews_movie2 = sorted([5.0, 4.2, 3.4, 2.1, 4.1, 4.7, 3.9]) #<0>\n",
    "\n",
    "worse_movie1, *middle, best_movie1 = reviews_movie1 #<1>\n",
    "worse_movie2, *_, best_movie2 = reviews_movie2 #<2>\n",
    "\n",
    "print(reviews_movie1)\n",
    "print(worse_movie1)\n",
    "print(best_movie1)\n",
    "print(middle)\n",
    "\n",
    "print(reviews_movie2)\n",
    "print(worse_movie2)\n",
    "print(best_movie2)\n"
   ]
  },
  {
   "cell_type": "markdown",
   "metadata": {},
   "source": [
    "## Discussion\n",
    "- <0> sort each movie reviews in ascending order\n",
    "- <1> get the worse and best reviews and also all the others in the middle\n",
    "- <2> get the worse and best reviews and ignore all the others."
   ]
  },
  {
   "cell_type": "code",
   "execution_count": null,
   "metadata": {},
   "outputs": [],
   "source": []
  }
 ],
 "metadata": {
  "kernelspec": {
   "display_name": "Python 3",
   "language": "python",
   "name": "python3"
  },
  "language_info": {
   "codemirror_mode": {
    "name": "ipython",
    "version": 3
   },
   "file_extension": ".py",
   "mimetype": "text/x-python",
   "name": "python",
   "nbconvert_exporter": "python",
   "pygments_lexer": "ipython3",
   "version": "3.6.5"
  }
 },
 "nbformat": 4,
 "nbformat_minor": 2
}
