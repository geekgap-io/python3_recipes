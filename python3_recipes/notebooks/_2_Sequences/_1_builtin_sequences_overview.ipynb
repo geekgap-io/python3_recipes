{
 "cells": [
  {
   "cell_type": "code",
   "execution_count": 1,
   "metadata": {},
   "outputs": [],
   "source": [
    "import collections\n",
    "import array"
   ]
  },
  {
   "cell_type": "markdown",
   "metadata": {},
   "source": [
    "# 1. Grouping sequences by the type of objects they contain:"
   ]
  },
  {
   "cell_type": "markdown",
   "metadata": {},
   "source": [
    "## Problem\n",
    "- Which Sequences to use when the objects they contain must be of same type?"
   ]
  },
  {
   "cell_type": "markdown",
   "metadata": {},
   "source": [
    "## Answer\n",
    "- Flat Sequences: str, bytes, bytearray, memoryview, array.array"
   ]
  },
  {
   "cell_type": "code",
   "execution_count": 2,
   "metadata": {},
   "outputs": [
    {
     "name": "stdout",
     "output_type": "stream",
     "text": [
      "<class 'str'>\n",
      "<class 'str'>\n",
      "<class 'str'>\n"
     ]
    }
   ],
   "source": [
    "comment = 'Python3 is awesome'\n",
    "print(type(comment))\n",
    "print(type(comment[0]))\n",
    "print(type(comment[1]))"
   ]
  },
  {
   "cell_type": "markdown",
   "metadata": {},
   "source": [
    "## Discussion\n",
    "- Flat Sequences store the value of each item they contain within their own memory space\n",
    "- Thus they are more compact in memory but they are limited to holding primitive values like characters, bytes and numbers"
   ]
  },
  {
   "cell_type": "code",
   "execution_count": null,
   "metadata": {},
   "outputs": [],
   "source": []
  },
  {
   "cell_type": "markdown",
   "metadata": {},
   "source": [
    "## Problem\n",
    "- Which Sequences to use when the inner objects can be of different types?"
   ]
  },
  {
   "cell_type": "markdown",
   "metadata": {},
   "source": [
    "## Answer\n",
    "- Container Sequences: list, tuple, collections.deque"
   ]
  },
  {
   "cell_type": "code",
   "execution_count": 3,
   "metadata": {},
   "outputs": [
    {
     "name": "stdout",
     "output_type": "stream",
     "text": [
      "['a string', 10, 4.1]\n",
      "('a string', 10, 4.1)\n",
      "deque(['a string', 10, 4.1])\n"
     ]
    }
   ],
   "source": [
    "a_string = 'a string'\n",
    "an_integer = 10\n",
    "a_float = 4.1\n",
    "\n",
    "a_list = [a_string, an_integer, a_float]\n",
    "a_tuple = (a_string, an_integer, a_float,)\n",
    "a_deque = collections.deque([a_string, an_integer, a_float])\n",
    "\n",
    "print(a_list)\n",
    "print(a_tuple)\n",
    "print(a_deque)\n"
   ]
  },
  {
   "cell_type": "markdown",
   "metadata": {},
   "source": [
    "## Discussion\n",
    "- Unlike Flat Sequences, Container Sequences store a reference to the objects the contain and not the objects themselves\n",
    "- Thus, they can store inner objects of any type, which gives more flexibility but is less compact in memory."
   ]
  },
  {
   "cell_type": "code",
   "execution_count": null,
   "metadata": {},
   "outputs": [],
   "source": []
  },
  {
   "cell_type": "markdown",
   "metadata": {},
   "source": [
    "# 2. Grouping sequences by mutability\n"
   ]
  },
  {
   "cell_type": "markdown",
   "metadata": {},
   "source": [
    "## Problem\n",
    "- Which Sequences allow in-place updates?"
   ]
  },
  {
   "cell_type": "markdown",
   "metadata": {},
   "source": [
    "## Answer\n",
    "- Mutable Sequences: list, bytearray, array.array, collections.deque"
   ]
  },
  {
   "cell_type": "code",
   "execution_count": 4,
   "metadata": {},
   "outputs": [
    {
     "name": "stdout",
     "output_type": "stream",
     "text": [
      "4560604232\n",
      "['Python3 is GREAT', 'Yes, I agree']\n",
      "4560604232\n",
      "3\n",
      "['Python3 is GREAT', 'Yes, I agree', 'Yeah, me too !']\n",
      "4560604232\n",
      "2\n",
      "['Python3 is GREAT', 'Yes, I agree']\n",
      "4560604232\n"
     ]
    }
   ],
   "source": [
    "comments = ['Python3 is great', 'Yes, I agree']\n",
    "print(id(comments))   #<0>\n",
    "\n",
    "comments[0] = 'Python3 is GREAT' #<1>\n",
    "print(comments)\n",
    "print(id(comments))   #<2>\n",
    "\n",
    "comments.append('Yeah, me too !')  #<3>\n",
    "print(len(comments))\n",
    "print(comments)\n",
    "print(id(comments))\n",
    "\n",
    "comments.pop()   #<4>\n",
    "print(len(comments))\n",
    "print(comments)\n",
    "print(id(comments))"
   ]
  },
  {
   "cell_type": "markdown",
   "metadata": {},
   "source": [
    "## Discussion\n",
    "- <0> print the id of the python comments object in memory\n",
    "- <1> in-place update of the first comment to the same comments\n",
    "- <2> the id is the same as before, proof that the update is indeed in-place on the same \"comments\" sequence object\n",
    "- <3, 4> adding or removing a comment are also in-place operations\n"
   ]
  },
  {
   "cell_type": "markdown",
   "metadata": {},
   "source": [
    "## Problem\n",
    "-  Which Sequences DO NOT allow in-place updates?"
   ]
  },
  {
   "cell_type": "markdown",
   "metadata": {},
   "source": [
    "## Answer\n",
    "- Immutable Sequences: tuple, str, bytes"
   ]
  },
  {
   "cell_type": "code",
   "execution_count": 5,
   "metadata": {},
   "outputs": [
    {
     "name": "stdout",
     "output_type": "stream",
     "text": [
      "<class 'tuple'>\n"
     ]
    },
    {
     "ename": "TypeError",
     "evalue": "'tuple' object does not support item assignment",
     "output_type": "error",
     "traceback": [
      "\u001b[0;31m---------------------------------------------------------------------------\u001b[0m",
      "\u001b[0;31mTypeError\u001b[0m                                 Traceback (most recent call last)",
      "\u001b[0;32m<ipython-input-5-7636ef86e1dc>\u001b[0m in \u001b[0;36m<module>\u001b[0;34m\u001b[0m\n\u001b[1;32m      2\u001b[0m \u001b[0mprint\u001b[0m\u001b[0;34m(\u001b[0m\u001b[0mtype\u001b[0m\u001b[0;34m(\u001b[0m\u001b[0mcomments\u001b[0m\u001b[0;34m)\u001b[0m\u001b[0;34m)\u001b[0m\u001b[0;34m\u001b[0m\u001b[0m\n\u001b[1;32m      3\u001b[0m \u001b[0;31m# The line below throws an Error: TypeError: 'tuple' object does not support item assignment\u001b[0m\u001b[0;34m\u001b[0m\u001b[0;34m\u001b[0m\u001b[0m\n\u001b[0;32m----> 4\u001b[0;31m \u001b[0mcomments\u001b[0m\u001b[0;34m[\u001b[0m\u001b[0;36m0\u001b[0m\u001b[0;34m]\u001b[0m \u001b[0;34m=\u001b[0m \u001b[0;34m'Python3 is GREAT'\u001b[0m \u001b[0;31m#<0>\u001b[0m\u001b[0;34m\u001b[0m\u001b[0m\n\u001b[0m\u001b[1;32m      5\u001b[0m \u001b[0;34m\u001b[0m\u001b[0m\n\u001b[1;32m      6\u001b[0m \u001b[0;34m\u001b[0m\u001b[0m\n",
      "\u001b[0;31mTypeError\u001b[0m: 'tuple' object does not support item assignment"
     ]
    }
   ],
   "source": [
    "comments = ('python3 is great', 'Yes, I agree',)\n",
    "print(type(comments))\n",
    "# The line below throws an Error: TypeError: 'tuple' object does not support item assignment\n",
    "comments[0] = 'Python3 is GREAT' #<0>"
   ]
  },
  {
   "cell_type": "code",
   "execution_count": 6,
   "metadata": {},
   "outputs": [
    {
     "name": "stdout",
     "output_type": "stream",
     "text": [
      "python3 is great\n"
     ]
    },
    {
     "ename": "TypeError",
     "evalue": "'str' object does not support item assignment",
     "output_type": "error",
     "traceback": [
      "\u001b[0;31m---------------------------------------------------------------------------\u001b[0m",
      "\u001b[0;31mTypeError\u001b[0m                                 Traceback (most recent call last)",
      "\u001b[0;32m<ipython-input-6-aab03abe5bf5>\u001b[0m in \u001b[0;36m<module>\u001b[0;34m\u001b[0m\n\u001b[1;32m      2\u001b[0m \u001b[0mprint\u001b[0m\u001b[0;34m(\u001b[0m\u001b[0mcomment_1\u001b[0m\u001b[0;34m)\u001b[0m\u001b[0;34m\u001b[0m\u001b[0m\n\u001b[1;32m      3\u001b[0m \u001b[0;31m# The line below throws an Error: TypeError: 'str' object does not support item assignment\u001b[0m\u001b[0;34m\u001b[0m\u001b[0;34m\u001b[0m\u001b[0m\n\u001b[0;32m----> 4\u001b[0;31m \u001b[0mcomment_1\u001b[0m\u001b[0;34m[\u001b[0m\u001b[0;36m0\u001b[0m\u001b[0;34m]\u001b[0m \u001b[0;34m=\u001b[0m \u001b[0;34m'P'\u001b[0m  \u001b[0;31m#<1>\u001b[0m\u001b[0;34m\u001b[0m\u001b[0m\n\u001b[0m",
      "\u001b[0;31mTypeError\u001b[0m: 'str' object does not support item assignment"
     ]
    }
   ],
   "source": [
    "comment_1 = comments[0]\n",
    "print(comment_1)\n",
    "# The line below throws an Error: TypeError: 'str' object does not support item assignment\n",
    "comment_1[0] = 'P'  #<1>"
   ]
  },
  {
   "cell_type": "markdown",
   "metadata": {},
   "source": [
    "## Discussion\n",
    "- <0> Throws an Error because tuple are immutable in Python, ie: once created, they can't be updated.\n",
    "- <1> Same applies for str\n"
   ]
  }
 ],
 "metadata": {
  "kernelspec": {
   "display_name": "Python 3",
   "language": "python",
   "name": "python3"
  },
  "language_info": {
   "codemirror_mode": {
    "name": "ipython",
    "version": 3
   },
   "file_extension": ".py",
   "mimetype": "text/x-python",
   "name": "python",
   "nbconvert_exporter": "python",
   "pygments_lexer": "ipython3",
   "version": "3.6.5"
  }
 },
 "nbformat": 4,
 "nbformat_minor": 2
}
