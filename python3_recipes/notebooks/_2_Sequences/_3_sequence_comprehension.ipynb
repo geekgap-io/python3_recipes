{
 "cells": [
  {
   "cell_type": "markdown",
   "metadata": {},
   "source": [
    "## Problem\n",
    "- Uppercasing all the comments without using map"
   ]
  },
  {
   "cell_type": "markdown",
   "metadata": {},
   "source": [
    "## Answer\n",
    "-  we can use sequence comprehension which are much more concise and readable"
   ]
  },
  {
   "cell_type": "code",
   "execution_count": 1,
   "metadata": {},
   "outputs": [
    {
     "name": "stdout",
     "output_type": "stream",
     "text": [
      "['Python3 is awesome', 'Indeed, python3 is great', 'Absolutely ... Could not agree more !']\n",
      "['PYTHON3 IS AWESOME', 'INDEED, PYTHON3 IS GREAT', 'ABSOLUTELY ... COULD NOT AGREE MORE !']\n",
      "['PYTHON3 IS AWESOME', 'INDEED, PYTHON3 IS GREAT', 'ABSOLUTELY ... COULD NOT AGREE MORE !']\n"
     ]
    }
   ],
   "source": [
    "comments = [\n",
    "    'Python3 is awesome',\n",
    "    'Indeed, python3 is great',\n",
    "    'Absolutely ... Could not agree more !'\n",
    "]\n",
    "uppercased_comments1 = [comment.upper() for comment in comments] #<0>\n",
    "uppercased_comments2 = [str.upper(comment) for comment in comments] #<1>\n",
    "print(comments) #<2>\n",
    "print(uppercased_comments1)\n",
    "print(uppercased_comments2)"
   ]
  },
  {
   "cell_type": "markdown",
   "metadata": {},
   "source": [
    "## Discussion\n",
    "- <0> list comprehension: each element of the new list being a transformation of the original one using the .upper() of the object\n",
    "- <1> list comprehension: each element of the new list being a transformation of the original one using the str.upper() function\n",
    "- <0, 1> both ways are much more cleaner and concise than the approach using map (see recipe 2.2)\n",
    "- <2> The original comments list is unchanged"
   ]
  },
  {
   "cell_type": "markdown",
   "metadata": {},
   "source": [
    "## Problem\n",
    "- Filtering only the comments with strictly more than 20 characters without using filter"
   ]
  },
  {
   "cell_type": "markdown",
   "metadata": {},
   "source": [
    "## Answer\n",
    "-  we can use sequence comprehension with an if clause"
   ]
  },
  {
   "cell_type": "code",
   "execution_count": 2,
   "metadata": {},
   "outputs": [
    {
     "name": "stdout",
     "output_type": "stream",
     "text": [
      "['Indeed, python3 is great', 'Absolutely ... Could not agree more !']\n",
      "['Python3 is awesome', 'Indeed, python3 is great', 'Absolutely ... Could not agree more !']\n"
     ]
    }
   ],
   "source": [
    "filtered_comments = [comment for comment in comments if len(comment) > 20] #<0>\n",
    "print(filtered_comments)\n",
    "print(comments) #<1>"
   ]
  },
  {
   "cell_type": "markdown",
   "metadata": {},
   "source": [
    "## Discussion\n",
    "- <0> adding an if clause to the element of the original list on the right hand side of the comprehension enables filtering which ones appear on the left side\n",
    "- <1> The original comments list is unchanged"
   ]
  },
  {
   "cell_type": "code",
   "execution_count": null,
   "metadata": {},
   "outputs": [],
   "source": []
  }
 ],
 "metadata": {
  "kernelspec": {
   "display_name": "Python 3",
   "language": "python",
   "name": "python3"
  },
  "language_info": {
   "codemirror_mode": {
    "name": "ipython",
    "version": 3
   },
   "file_extension": ".py",
   "mimetype": "text/x-python",
   "name": "python",
   "nbconvert_exporter": "python",
   "pygments_lexer": "ipython3",
   "version": "3.6.5"
  }
 },
 "nbformat": 4,
 "nbformat_minor": 2
}
