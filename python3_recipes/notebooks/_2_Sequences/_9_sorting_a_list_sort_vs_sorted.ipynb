{
 "cells": [
  {
   "cell_type": "markdown",
   "metadata": {},
   "source": [
    "## Problem\n",
    "- When to use .sort( ) and when to use sorted( ) "
   ]
  },
  {
   "cell_type": "code",
   "execution_count": 23,
   "metadata": {},
   "outputs": [
    {
     "name": "stdout",
     "output_type": "stream",
     "text": [
      "reviews=[5.0, 4.2, 3.4, 2.1, 4.1, 4.7, 3.9] , id=4531188104\n"
     ]
    }
   ],
   "source": [
    "reviews = [5.0, 4.2, 3.4, 2.1, 4.1, 4.7, 3.9]\n",
    "print('reviews={} , id={}'.format(reviews, id(reviews)))"
   ]
  },
  {
   "cell_type": "markdown",
   "metadata": {},
   "source": [
    "## Answer\n",
    "- You can use the built-in sorted( ) function on both mutable and immutable sequences\n",
    "- You can use the .sort( ) method on mutable sequences"
   ]
  },
  {
   "cell_type": "code",
   "execution_count": 24,
   "metadata": {},
   "outputs": [
    {
     "name": "stdout",
     "output_type": "stream",
     "text": [
      "reviews       =[5.0, 4.2, 3.4, 2.1, 4.1, 4.7, 3.9] , id=4531188104\n",
      "sorted_reviews=[2.1, 3.4, 3.9, 4.1, 4.2, 4.7, 5.0] , id=4542081800\n"
     ]
    }
   ],
   "source": [
    "sorted_reviews = sorted(reviews)  #<0>\n",
    "print('reviews       ={} , id={}'.format(reviews, id(reviews))) #<1>\n",
    "print('sorted_reviews={} , id={}'.format(sorted_reviews, id(sorted_reviews)))"
   ]
  },
  {
   "cell_type": "code",
   "execution_count": 25,
   "metadata": {},
   "outputs": [
    {
     "name": "stdout",
     "output_type": "stream",
     "text": [
      "['A', 'B', 'C', 'Z']\n",
      "ABCZ\n"
     ]
    }
   ],
   "source": [
    "sorted_letters = sorted('ZBAC')  #<2>\n",
    "print(sorted_letters)\n",
    "print(''.join(sorted_letters))"
   ]
  },
  {
   "cell_type": "code",
   "execution_count": 26,
   "metadata": {},
   "outputs": [
    {
     "data": {
      "text/plain": [
       "['Z', 'C', 'B', 'A']"
      ]
     },
     "execution_count": 26,
     "metadata": {},
     "output_type": "execute_result"
    }
   ],
   "source": [
    "reverse_sorted_letters = sorted('ZBAC', reverse=True)  #<3>\n",
    "reverse_sorted_letters"
   ]
  },
  {
   "cell_type": "code",
   "execution_count": null,
   "metadata": {},
   "outputs": [],
   "source": []
  },
  {
   "cell_type": "code",
   "execution_count": 27,
   "metadata": {},
   "outputs": [
    {
     "name": "stdout",
     "output_type": "stream",
     "text": [
      "reviews=[2.1, 3.4, 3.9, 4.1, 4.2, 4.7, 5.0] , id=4531188104\n",
      "True\n"
     ]
    }
   ],
   "source": [
    "none = reviews.sort()  #<4>\n",
    "print('reviews={} , id={}'.format(reviews, id(reviews))) \n",
    "print(none is None)"
   ]
  },
  {
   "cell_type": "code",
   "execution_count": 28,
   "metadata": {},
   "outputs": [
    {
     "data": {
      "text/plain": [
       "[5.0, 4.7, 4.2, 4.1, 3.9, 3.4, 2.1]"
      ]
     },
     "execution_count": 28,
     "metadata": {},
     "output_type": "execute_result"
    }
   ],
   "source": [
    "reviews.sort(reverse=True)  #<5>\n",
    "reviews"
   ]
  },
  {
   "cell_type": "markdown",
   "metadata": {},
   "source": [
    "## Discussion\n",
    "- <0, 1> the sorted function can be used to sort a mutable sequence, it returns a new sorted (in ascending order) sequence and the original one is unchanged\n",
    "- <2> sorted also works on immutable sequences, but always return a list so you may consider casting it back to the original sequence type if needs be.\n",
    "- <3> sorted allows you to sort in descending order by passing the flag reverse=True\n",
    "- <4> mutale sequence provide a .sort() to sort the sequence in-place, unlike sorted .sort() returns None\n",
    "- <5> .sort() method enables sorting in descending order as well."
   ]
  }
 ],
 "metadata": {
  "kernelspec": {
   "display_name": "Python 3",
   "language": "python",
   "name": "python3"
  },
  "language_info": {
   "codemirror_mode": {
    "name": "ipython",
    "version": 3
   },
   "file_extension": ".py",
   "mimetype": "text/x-python",
   "name": "python",
   "nbconvert_exporter": "python",
   "pygments_lexer": "ipython3",
   "version": "3.6.5"
  }
 },
 "nbformat": 4,
 "nbformat_minor": 2
}
