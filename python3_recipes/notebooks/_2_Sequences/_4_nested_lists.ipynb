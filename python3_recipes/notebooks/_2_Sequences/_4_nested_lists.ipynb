{
 "cells": [
  {
   "cell_type": "markdown",
   "metadata": {},
   "source": [
    "## Problem\n",
    "- Suppose you maintain an e-commerce store and currently have 3 customers with 6 items in sale,\n",
    "- You would like to keep an updated record of the scores each customer gives to a purchased item.\n",
    "- How could you do that using lists"
   ]
  },
  {
   "cell_type": "markdown",
   "metadata": {},
   "source": [
    "## Answer\n",
    "- We can use a list of lists. The outer list representing the the customers and the inner list the items.\n",
    "- We can initialize a list of list with all elements to None initialy and update once a customer purchase and review and item\n",
    "- However there is a wrong and a right way to initialize a list of list: Let's start with the wrong way."
   ]
  },
  {
   "cell_type": "code",
   "execution_count": 2,
   "metadata": {},
   "outputs": [
    {
     "name": "stdout",
     "output_type": "stream",
     "text": [
      "[[None, None, None, None, None, None], [None, None, None, None, None, None], [None, None, None, None, None, None]]\n",
      "[[None, None, None, None, None, 3.9], [None, None, None, None, None, 3.9], [None, None, None, None, None, 3.9]]\n",
      "4482612040\n",
      "4482612040\n",
      "4482612040\n"
     ]
    }
   ],
   "source": [
    "### The wrong way:\n",
    "reviews = [[None] * 6] * 3 #<0>\n",
    "print(reviews)\n",
    "\n",
    "# Let's say customer 2 purchases and reviews item 6 with a score of 3.9\n",
    "reviews[1][5] = 3.9 #<1>\n",
    "print(reviews) #<2>\n",
    "\n",
    "print(id(reviews[0])) #<3>\n",
    "print(id(reviews[1])) #<3>\n",
    "print(id(reviews[2])) #<3>"
   ]
  },
  {
   "cell_type": "code",
   "execution_count": 3,
   "metadata": {},
   "outputs": [
    {
     "name": "stdout",
     "output_type": "stream",
     "text": [
      "[[None, None, None, None, None, None], [None, None, None, None, None, None], [None, None, None, None, None, None]]\n",
      "[[None, None, None, None, None, None], [None, None, None, None, None, 3.9], [None, None, None, None, None, None]]\n",
      "4482611976\n",
      "4482682952\n",
      "4482579016\n"
     ]
    }
   ],
   "source": [
    "### The right way: with (nested) list comprehension\n",
    "reviews = [[None] * 6 for i in range(3)]  #<4>\n",
    "#reviews = [[None for j in range(6)] for i in range(3)] #is also good\n",
    "print(reviews)\n",
    "\n",
    "# Let's say customer 2 purchases and reviews item 6 with a score of 3.9\n",
    "reviews[1][5] = 3.9 #<5>\n",
    "print(reviews) #<6>\n",
    "\n",
    "print(id(reviews[0])) #<7>\n",
    "print(id(reviews[1])) #<7>\n",
    "print(id(reviews[2])) #<7>"
   ]
  },
  {
   "cell_type": "code",
   "execution_count": null,
   "metadata": {},
   "outputs": [],
   "source": []
  }
 ],
 "metadata": {
  "kernelspec": {
   "display_name": "Python 3",
   "language": "python",
   "name": "python3"
  },
  "language_info": {
   "codemirror_mode": {
    "name": "ipython",
    "version": 3
   },
   "file_extension": ".py",
   "mimetype": "text/x-python",
   "name": "python",
   "nbconvert_exporter": "python",
   "pygments_lexer": "ipython3",
   "version": "3.6.5"
  }
 },
 "nbformat": 4,
 "nbformat_minor": 2
}
