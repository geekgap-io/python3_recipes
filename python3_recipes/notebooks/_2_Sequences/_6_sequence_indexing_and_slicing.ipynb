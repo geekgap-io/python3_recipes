{
 "cells": [
  {
   "cell_type": "markdown",
   "metadata": {},
   "source": [
    "## Problem\n",
    "- What are the various ways to index an element or a subset of elements in a sequence"
   ]
  },
  {
   "cell_type": "code",
   "execution_count": 31,
   "metadata": {},
   "outputs": [
    {
     "data": {
      "text/plain": [
       "('Python3', ['P', 'y', 't', 'h', 'o', 'n', '3'])"
      ]
     },
     "execution_count": 31,
     "metadata": {},
     "output_type": "execute_result"
    }
   ],
   "source": [
    "s = 'Python3'\n",
    "l = list(s)\n",
    "s, l"
   ]
  },
  {
   "cell_type": "markdown",
   "metadata": {},
   "source": [
    "## Answer\n",
    "- Use sequence indexing syntax: [start:end:step], in Python end excluded from the interval"
   ]
  },
  {
   "cell_type": "code",
   "execution_count": 32,
   "metadata": {},
   "outputs": [
    {
     "name": "stdout",
     "output_type": "stream",
     "text": [
      "Pyth\n",
      "['P', 'y', 't', 'h']\n"
     ]
    }
   ],
   "source": [
    "print(s[0:4])       #<0>\n",
    "print(l[0:4])"
   ]
  },
  {
   "cell_type": "code",
   "execution_count": 35,
   "metadata": {},
   "outputs": [
    {
     "name": "stdout",
     "output_type": "stream",
     "text": [
      "['P', 't']\n"
     ]
    }
   ],
   "source": [
    "print(l[0:4:2])     #<1>"
   ]
  },
  {
   "cell_type": "code",
   "execution_count": 36,
   "metadata": {},
   "outputs": [
    {
     "name": "stdout",
     "output_type": "stream",
     "text": [
      "hon3\n"
     ]
    }
   ],
   "source": [
    "print(s[3:])        #<2>"
   ]
  },
  {
   "cell_type": "code",
   "execution_count": 37,
   "metadata": {},
   "outputs": [
    {
     "name": "stdout",
     "output_type": "stream",
     "text": [
      "['P', 'y', 't', 'h']\n"
     ]
    }
   ],
   "source": [
    "print(l[:4])        #<3>"
   ]
  },
  {
   "cell_type": "code",
   "execution_count": 40,
   "metadata": {},
   "outputs": [
    {
     "name": "stdout",
     "output_type": "stream",
     "text": [
      "3nohtyP\n"
     ]
    }
   ],
   "source": [
    "print(s[::-1])      #<4>"
   ]
  },
  {
   "cell_type": "code",
   "execution_count": 44,
   "metadata": {},
   "outputs": [
    {
     "name": "stdout",
     "output_type": "stream",
     "text": [
      "P\n"
     ]
    }
   ],
   "source": [
    "print(l[0])         #<5>"
   ]
  },
  {
   "cell_type": "code",
   "execution_count": 47,
   "metadata": {},
   "outputs": [
    {
     "name": "stdout",
     "output_type": "stream",
     "text": [
      "3\n"
     ]
    }
   ],
   "source": [
    "print(s[-1])        #<6>"
   ]
  },
  {
   "cell_type": "code",
   "execution_count": 48,
   "metadata": {},
   "outputs": [
    {
     "ename": "IndexError",
     "evalue": "string index out of range",
     "output_type": "error",
     "traceback": [
      "\u001b[0;31m---------------------------------------------------------------------------\u001b[0m",
      "\u001b[0;31mIndexError\u001b[0m                                Traceback (most recent call last)",
      "\u001b[0;32m<ipython-input-48-003d9557413a>\u001b[0m in \u001b[0;36m<module>\u001b[0;34m\u001b[0m\n\u001b[0;32m----> 1\u001b[0;31m \u001b[0mprint\u001b[0m\u001b[0;34m(\u001b[0m\u001b[0ms\u001b[0m\u001b[0;34m[\u001b[0m\u001b[0;36m50\u001b[0m\u001b[0;34m]\u001b[0m\u001b[0;34m)\u001b[0m    \u001b[0;31m#<7>\u001b[0m\u001b[0;34m\u001b[0m\u001b[0m\n\u001b[0m",
      "\u001b[0;31mIndexError\u001b[0m: string index out of range"
     ]
    }
   ],
   "source": [
    "print(s[50])    #<7>"
   ]
  },
  {
   "cell_type": "code",
   "execution_count": null,
   "metadata": {},
   "outputs": [],
   "source": []
  },
  {
   "cell_type": "code",
   "execution_count": 51,
   "metadata": {},
   "outputs": [
    {
     "name": "stdout",
     "output_type": "stream",
     "text": [
      "Python3         was invented in 1989 by Guido       \n",
      "C++             was invented in 1979 by Bjarne      \n",
      "C               was invented in 1969 by Dennis      \n"
     ]
    }
   ],
   "source": [
    "csv_file_content = '''\n",
    "Python3        Guido       1989\n",
    "C++            Bjarne      1979       \n",
    "C              Dennis      1969'''\n",
    "\n",
    "language = slice(0,15)      #<8>\n",
    "inventor = slice(15, 27)    #<8>\n",
    "year = slice(27, 31)        #<8>\n",
    "\n",
    "for line in csv_file_content.split('\\n')[1:]:\n",
    "    print('{} was invented in {} by {}'.format(line[language], line[year], line[inventor]))"
   ]
  },
  {
   "cell_type": "markdown",
   "metadata": {},
   "source": [
    "## Discussion\n",
    "- <0> Only get the characters from 0 to 3. YES to 3 because end=4 is excluded\n",
    "- <1> Do the same but skip 1 character each time\n",
    "- <2> Start from 3 but go till the end\n",
    "- <3> Only tke the first 4 characters\n",
    "- <4> get the reversed sequence\n",
    "- <5> get only a the first element of the sequence\n",
    "- <6> get the last one\n",
    "- <7> index 50 is out of range so an exception is raised\n",
    "- <8> we can also make use of the named slice to parse structured information and make the code more readable"
   ]
  },
  {
   "cell_type": "code",
   "execution_count": null,
   "metadata": {},
   "outputs": [],
   "source": []
  }
 ],
 "metadata": {
  "kernelspec": {
   "display_name": "Python 3",
   "language": "python",
   "name": "python3"
  },
  "language_info": {
   "codemirror_mode": {
    "name": "ipython",
    "version": 3
   },
   "file_extension": ".py",
   "mimetype": "text/x-python",
   "name": "python",
   "nbconvert_exporter": "python",
   "pygments_lexer": "ipython3",
   "version": "3.6.5"
  }
 },
 "nbformat": 4,
 "nbformat_minor": 2
}
