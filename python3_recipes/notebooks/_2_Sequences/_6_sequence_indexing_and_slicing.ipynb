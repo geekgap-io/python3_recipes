{
 "cells": [
  {
   "cell_type": "markdown",
   "metadata": {},
   "source": [
    "## Problem\n",
    "- What are the various ways to index an element or a subset of elements in a sequence"
   ]
  },
  {
   "cell_type": "markdown",
   "metadata": {},
   "source": [
    "## Answer\n",
    "- Use sequence indexing syntax: [start:end:step], in Python end excluded from the interval"
   ]
  },
  {
   "cell_type": "code",
   "execution_count": 3,
   "metadata": {},
   "outputs": [
    {
     "name": "stdout",
     "output_type": "stream",
     "text": [
      "Pyth\n",
      "Pt\n",
      "hon3\n",
      "Pyth\n",
      "3nohtyP\n",
      "P\n",
      "3\n",
      "string index out of range\n"
     ]
    }
   ],
   "source": [
    "s = 'Python3'\n",
    "print(s[0:4])       #<0>\n",
    "print(s[0:4:2])     #<1>\n",
    "print(s[3:])        #<2>\n",
    "print(s[:4])        #<3>\n",
    "print(s[::-1])      #<4>\n",
    "print(s[0])         #<5>\n",
    "print(s[-1])        #<6>\n",
    "try:\n",
    "    print(s[50])    #<7>\n",
    "except Exception as e:\n",
    "    print(e)"
   ]
  },
  {
   "cell_type": "code",
   "execution_count": 4,
   "metadata": {},
   "outputs": [
    {
     "name": "stdout",
     "output_type": "stream",
     "text": [
      "Python3         was invented in 1989 by Guido       \n",
      "C++             was invented in 1979 by Bjarne      \n",
      "C               was invented in 1969 by Dennis      \n"
     ]
    }
   ],
   "source": [
    "csv_file_content = '''\n",
    "Python3        Guido       1989\n",
    "C++            Bjarne      1979       \n",
    "C              Dennis      1969'''\n",
    "\n",
    "language = slice(0,15)      #<8>\n",
    "inventor = slice(15, 27)    #<8>\n",
    "year = slice(27, 31)        #<8>\n",
    "\n",
    "for line in csv_file_content.split('\\n')[1:]:\n",
    "    print('{} was invented in {} by {}'.format(line[language], line[year], line[inventor]))"
   ]
  },
  {
   "cell_type": "markdown",
   "metadata": {},
   "source": [
    "## Discussion\n",
    "- <0> Only get the characters from 0 to 3. YES to 3 because end=4 is excluded\n",
    "- <1> Do the same but skip 1 character each time\n",
    "- <2> Start from 3 but go till the end\n",
    "- <3> Only tke the first 4 characters\n",
    "- <4> get the reversed sequence\n",
    "- <5> get only a the first element of the sequence\n",
    "- <6> get the last one\n",
    "- <7> index 50 is out of range so an exception is raised\n",
    "- <8> we can also make use of the named slice to parse structured information and make the code more readable"
   ]
  },
  {
   "cell_type": "code",
   "execution_count": null,
   "metadata": {},
   "outputs": [],
   "source": []
  }
 ],
 "metadata": {
  "kernelspec": {
   "display_name": "Python 3",
   "language": "python",
   "name": "python3"
  },
  "language_info": {
   "codemirror_mode": {
    "name": "ipython",
    "version": 3
   },
   "file_extension": ".py",
   "mimetype": "text/x-python",
   "name": "python",
   "nbconvert_exporter": "python",
   "pygments_lexer": "ipython3",
   "version": "3.6.5"
  }
 },
 "nbformat": 4,
 "nbformat_minor": 2
}
