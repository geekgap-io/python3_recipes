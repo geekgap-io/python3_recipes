{
 "cells": [
  {
   "cell_type": "markdown",
   "metadata": {},
   "source": [
    "## Problem\n",
    "- How do we remove or add elements in a Python list while iterating on it and in-place\n",
    "- for instance let's remove the reviews that are <= 2.0 from the reviews list and IN-PLACE"
   ]
  },
  {
   "cell_type": "code",
   "execution_count": 69,
   "metadata": {},
   "outputs": [],
   "source": [
    "[2.5, 1.0, 1.4, 5.0, 3.0, 1.1, 3.9, 1.8, 4.2, 3.4, 4.7, 1.9, 0.1]"
   ]
  },
  {
   "cell_type": "markdown",
   "metadata": {},
   "source": [
    "## Answer\n",
    "- The short answer is: you never want to add/remove items to a list while iterating on that same list at same time with a for loop."
   ]
  },
  {
   "cell_type": "code",
   "execution_count": 65,
   "metadata": {},
   "outputs": [
    {
     "name": "stdout",
     "output_type": "stream",
     "text": [
      "id(reviews)=4393627336 | len(reviews)=13 \n",
      "[BEFORE] reviews = [2.5, 1.0, 1.4, 5.0, 3.0, 1.1, 3.9, 1.8, 4.2, 3.4, 4.7, 1.9, 0.1]\n",
      "\n",
      "processing item[0]\n",
      "processing item[1]--> removing reviews[1]=1.0 ---> reviews=[2.5, 1.4, 5.0, 3.0, 1.1, 3.9, 1.8, 4.2, 3.4, 4.7, 1.9, 0.1]\n",
      "processing item[2]\n",
      "processing item[3]\n",
      "processing item[4]--> removing reviews[4]=1.1 ---> reviews=[2.5, 1.4, 5.0, 3.0, 3.9, 1.8, 4.2, 3.4, 4.7, 1.9, 0.1]\n",
      "processing item[5]--> removing reviews[5]=1.8 ---> reviews=[2.5, 1.4, 5.0, 3.0, 3.9, 4.2, 3.4, 4.7, 1.9, 0.1]\n",
      "processing item[6]\n",
      "processing item[7]\n",
      "processing item[8]--> removing reviews[8]=1.9 ---> reviews=[2.5, 1.4, 5.0, 3.0, 3.9, 4.2, 3.4, 4.7, 0.1]\n",
      "\n",
      "id(reviews)=4393627336 | len(reviews)=9 \n",
      "[AFTER] reviews = [2.5, 1.4, 5.0, 3.0, 3.9, 4.2, 3.4, 4.7, 0.1]\n"
     ]
    }
   ],
   "source": [
    "# BAD IDEA TO REMOVE items from a list in-place while iterating on it at same time:  version 1\n",
    "\n",
    "reviews = [2.5, 1.0, 1.4, 5.0, 3.0, 1.1, 3.9, 1.8, 4.2, 3.4, 4.7, 1.9, 0.1]\n",
    "print(f'id(reviews)={id(reviews)} | len(reviews)={len(reviews)} ') #<0>\n",
    "print(f'[BEFORE] reviews =', reviews) #<0>\n",
    "print()\n",
    "\n",
    "for i, review in enumerate(reviews):\n",
    "    print(f'processing item[{i}]', end = '')\n",
    "    if review <= 2.0:\n",
    "        #reviews.pop(i) also works\n",
    "        del reviews[i]  #<1>\n",
    "        print(f'--> removing reviews[{i}]={review} ---> reviews={reviews}')\n",
    "\n",
    "    else:\n",
    "        print()\n",
    "\n",
    "print()\n",
    "print(f'id(reviews)={id(reviews)} | len(reviews)={len(reviews)} ') #<2>\n",
    "print(f'[AFTER] reviews =', reviews) #<2>"
   ]
  },
  {
   "cell_type": "code",
   "execution_count": 66,
   "metadata": {},
   "outputs": [
    {
     "name": "stdout",
     "output_type": "stream",
     "text": [
      "id(reviews)=4393644616 | len(reviews)=13 \n",
      "id(reviews[:])=4393627336 | len(reviews[:])=13 \n",
      "[BEFORE] reviews = [2.5, 1.0, 1.4, 5.0, 3.0, 1.1, 3.9, 1.8, 4.2, 3.4, 4.7, 1.9, 0.1]\n",
      "\n",
      "processing item[0]\n",
      "processing item[1]--> removing reviews[1]=1.0 ---> reviews=[2.5, 1.4, 5.0, 3.0, 1.1, 3.9, 1.8, 4.2, 3.4, 4.7, 1.9, 0.1]\n",
      "processing item[2]--> removing reviews[2]=1.4 ---> reviews=[2.5, 1.4, 3.0, 1.1, 3.9, 1.8, 4.2, 3.4, 4.7, 1.9, 0.1]\n",
      "processing item[3]\n",
      "processing item[4]\n",
      "processing item[5]--> removing reviews[5]=1.1 ---> reviews=[2.5, 1.4, 3.0, 1.1, 3.9, 4.2, 3.4, 4.7, 1.9, 0.1]\n",
      "processing item[6]\n",
      "processing item[7]--> removing reviews[7]=1.8 ---> reviews=[2.5, 1.4, 3.0, 1.1, 3.9, 4.2, 3.4, 1.9, 0.1]\n",
      "processing item[8]\n",
      "processing item[9]\n",
      "processing item[10]\n",
      "processing item[11]"
     ]
    },
    {
     "ename": "IndexError",
     "evalue": "list assignment index out of range",
     "output_type": "error",
     "traceback": [
      "\u001b[0;31m---------------------------------------------------------------------------\u001b[0m",
      "\u001b[0;31mIndexError\u001b[0m                                Traceback (most recent call last)",
      "\u001b[0;32m<ipython-input-66-c07a9b0abede>\u001b[0m in \u001b[0;36m<module>\u001b[0;34m\u001b[0m\n\u001b[1;32m     12\u001b[0m     \u001b[0;32mif\u001b[0m \u001b[0mreview\u001b[0m \u001b[0;34m<=\u001b[0m \u001b[0;36m2.0\u001b[0m\u001b[0;34m:\u001b[0m\u001b[0;34m\u001b[0m\u001b[0m\n\u001b[1;32m     13\u001b[0m         \u001b[0;31m#reviews.pop(i) also works\u001b[0m\u001b[0;34m\u001b[0m\u001b[0;34m\u001b[0m\u001b[0m\n\u001b[0;32m---> 14\u001b[0;31m         \u001b[0;32mdel\u001b[0m \u001b[0mreviews\u001b[0m\u001b[0;34m[\u001b[0m\u001b[0mi\u001b[0m\u001b[0;34m]\u001b[0m\u001b[0;34m\u001b[0m\u001b[0m\n\u001b[0m\u001b[1;32m     15\u001b[0m         \u001b[0mprint\u001b[0m\u001b[0;34m(\u001b[0m\u001b[0;34mf'--> removing reviews[{i}]={review} ---> reviews={reviews}'\u001b[0m\u001b[0;34m)\u001b[0m\u001b[0;34m\u001b[0m\u001b[0m\n\u001b[1;32m     16\u001b[0m     \u001b[0;32melse\u001b[0m\u001b[0;34m:\u001b[0m\u001b[0;34m\u001b[0m\u001b[0m\n",
      "\u001b[0;31mIndexError\u001b[0m: list assignment index out of range"
     ]
    }
   ],
   "source": [
    "# BAD IDEA TO REMOVE items from a list in-place while iterating on it at same time:  version 2\n",
    "\n",
    "reviews = [2.5, 1.0, 1.4, 5.0, 3.0, 1.1, 3.9, 1.8, 4.2, 3.4, 4.7, 1.9, 0.1]\n",
    "print(f'id(reviews)={id(reviews)} | len(reviews)={len(reviews)} ')\n",
    "copy = reviews[:]\n",
    "print(f'id(reviews[:])={id(copy)} | len(reviews[:])={len(copy)} ') #<3>\n",
    "print(f'[BEFORE] reviews =', reviews)\n",
    "print()\n",
    "\n",
    "for i, review in enumerate(copy):#<3>  reviews[:] creates a copy of reviews\n",
    "    print(f'processing item[{i}]', end = '')\n",
    "    if review <= 2.0:\n",
    "        #reviews.pop(i) also works\n",
    "        del reviews[i]\n",
    "        print(f'--> removing reviews[{i}]={review} ---> reviews={reviews}')\n",
    "    else:\n",
    "        print()\n",
    "\n",
    "print()\n",
    "print(f'id(reviews)={id(reviews)} | len(reviews)={len(reviews)} ') \n",
    "print(f'[AFTER] reviews =', reviews) "
   ]
  },
  {
   "cell_type": "code",
   "execution_count": null,
   "metadata": {},
   "outputs": [],
   "source": []
  },
  {
   "cell_type": "code",
   "execution_count": 67,
   "metadata": {},
   "outputs": [
    {
     "name": "stdout",
     "output_type": "stream",
     "text": [
      "id(reviews)=4397058952 | len(reviews)=13 \n",
      "[BEFORE] reviews = [2.5, 1.0, 1.4, 5.0, 3.0, 1.1, 3.9, 1.8, 4.2, 3.4, 4.7, 1.9, 0.1]\n",
      "\n",
      "processing item[0]\n",
      "processing item[1]--> removing reviews[1]=1.0 ---> reviews=[2.5, 1.4, 5.0, 3.0, 1.1, 3.9, 1.8, 4.2, 3.4, 4.7, 1.9, 0.1]\n",
      "processing item[1]--> removing reviews[1]=1.4 ---> reviews=[2.5, 5.0, 3.0, 1.1, 3.9, 1.8, 4.2, 3.4, 4.7, 1.9, 0.1]\n",
      "processing item[1]\n",
      "processing item[2]\n",
      "processing item[3]--> removing reviews[3]=1.1 ---> reviews=[2.5, 5.0, 3.0, 3.9, 1.8, 4.2, 3.4, 4.7, 1.9, 0.1]\n",
      "processing item[3]\n",
      "processing item[4]--> removing reviews[4]=1.8 ---> reviews=[2.5, 5.0, 3.0, 3.9, 4.2, 3.4, 4.7, 1.9, 0.1]\n",
      "processing item[4]\n",
      "processing item[5]\n",
      "processing item[6]\n",
      "processing item[7]--> removing reviews[7]=1.9 ---> reviews=[2.5, 5.0, 3.0, 3.9, 4.2, 3.4, 4.7, 0.1]\n",
      "processing item[7]--> removing reviews[7]=0.1 ---> reviews=[2.5, 5.0, 3.0, 3.9, 4.2, 3.4, 4.7]\n",
      "\n",
      "id(reviews)=4397058952 | len(reviews)=7 \n",
      "[AFTER] reviews = [2.5, 5.0, 3.0, 3.9, 4.2, 3.4, 4.7]\n"
     ]
    }
   ],
   "source": [
    "# GOOD WAY TO REMOVE items from a list in place: Don't use for loop, use a while loop\n",
    "\n",
    "reviews = [2.5, 1.0, 1.4, 5.0, 3.0, 1.1, 3.9, 1.8, 4.2, 3.4, 4.7, 1.9, 0.1]\n",
    "print(f'id(reviews)={id(reviews)} | len(reviews)={len(reviews)} ') \n",
    "print(f'[BEFORE] reviews =', reviews)   \n",
    "print()\n",
    "\n",
    "i = 0\n",
    "while i < len(reviews): #<4>\n",
    "    print(f'processing item[{i}]', end='')\n",
    "    review = reviews[i]\n",
    "    if review <= 2.0:\n",
    "        del reviews[i]\n",
    "        print(f'--> removing reviews[{i}]={review} ---> reviews={reviews}')\n",
    "    else:\n",
    "        print()\n",
    "        i+=1 #<5> while loop gives us more control on when to increment the index\n",
    "        \n",
    "\n",
    "print()\n",
    "print(f'id(reviews)={id(reviews)} | len(reviews)={len(reviews)} ') \n",
    "print(f'[AFTER] reviews =', reviews) "
   ]
  },
  {
   "cell_type": "markdown",
   "metadata": {},
   "source": [
    "## Discussion\n",
    "- <0, 2> printing the id, len and the reviews list to show that we are indeed removing items from it and doing so in-place\n",
    "- <1> deleting an item from the reviews list based on the index coming from the for loop\n",
    "- <3> it doesn't matter iterating on a copy of the reviews list, same problem remains, the index are coming from the for loop iterator\n",
    "- <4> using a while instead of a for loop gives us more control on how we want to increment the index.\n",
    "- KEY-TAKE-AWAY: USE A WHILE LOOP WHEN UPDATING A LIST IN PLACE AND NOT A FOR LOOP."
   ]
  }
 ],
 "metadata": {
  "kernelspec": {
   "display_name": "Python 3",
   "language": "python",
   "name": "python3"
  },
  "language_info": {
   "codemirror_mode": {
    "name": "ipython",
    "version": 3
   },
   "file_extension": ".py",
   "mimetype": "text/x-python",
   "name": "python",
   "nbconvert_exporter": "python",
   "pygments_lexer": "ipython3",
   "version": "3.6.5"
  }
 },
 "nbformat": 4,
 "nbformat_minor": 2
}
