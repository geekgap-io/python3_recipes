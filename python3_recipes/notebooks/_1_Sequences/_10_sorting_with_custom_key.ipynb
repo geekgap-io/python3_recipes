{
 "cells": [
  {
   "cell_type": "code",
   "execution_count": 15,
   "metadata": {},
   "outputs": [],
   "source": [
    "from collections import namedtuple"
   ]
  },
  {
   "cell_type": "markdown",
   "metadata": {},
   "source": [
    "## Problem\n",
    "- you want to sort a list of comments represented as tuples, namedtuples, dicts, objects by either the number of likes or comment.content length."
   ]
  },
  {
   "cell_type": "code",
   "execution_count": 3,
   "metadata": {},
   "outputs": [],
   "source": [
    "comment_str = 'Python3 is awesome'\n",
    "\n",
    "comment_tuple = ('Junior', 'Python3 is awesome', 5, (8, 5, 2019))\n",
    "\n",
    "comment_dict = dict(author='Junior', content='Python3 is awesome', likes=5, date=(8, 5, 2019))\n",
    "\n",
    "Comment = namedtuple('Comment', ['author', 'content', 'likes', 'date'])\n",
    "comment_ntuple = Comment('Junior', 'Python3 is awesome', 10, (9, 5, 2019))"
   ]
  },
  {
   "cell_type": "markdown",
   "metadata": {},
   "source": [
    "## Answer\n",
    "- we can use the key argument of the sorted function or .sort method to provide a custom sorting value."
   ]
  },
  {
   "cell_type": "code",
   "execution_count": 16,
   "metadata": {},
   "outputs": [
    {
     "name": "stdout",
     "output_type": "stream",
     "text": [
      "['Absolutely!', 'I prefer Python3 over Python2', 'Python3 is awesome', 'Yeah!!']\n"
     ]
    }
   ],
   "source": [
    "# Example 1: sorting str_comments by their length\n",
    "str_comments = ['Python3 is awesome', 'Yeah!!', 'I prefer Python3 over Python2', 'Absolutely!']\n",
    "\n",
    "print(sorted(str_comments)) #<0> By default sorted by lexicographic order"
   ]
  },
  {
   "cell_type": "code",
   "execution_count": 17,
   "metadata": {},
   "outputs": [
    {
     "name": "stdout",
     "output_type": "stream",
     "text": [
      "['Yeah!!', 'Absolutely!', 'Python3 is awesome', 'I prefer Python3 over Python2']\n"
     ]
    }
   ],
   "source": [
    "print(sorted(str_comments, key=len)) #<1>"
   ]
  },
  {
   "cell_type": "code",
   "execution_count": 18,
   "metadata": {},
   "outputs": [
    {
     "name": "stdout",
     "output_type": "stream",
     "text": [
      "['I prefer Python3 over Python2', 'Python3 is awesome', 'Absolutely!', 'Yeah!!']\n"
     ]
    }
   ],
   "source": [
    "print(sorted(str_comments, key=len, reverse=True)) "
   ]
  },
  {
   "cell_type": "code",
   "execution_count": null,
   "metadata": {},
   "outputs": [],
   "source": []
  },
  {
   "cell_type": "code",
   "execution_count": 19,
   "metadata": {},
   "outputs": [],
   "source": [
    "# Example 2: sorting tuple_comments by their number of likes\n",
    "tuple_comments = [\n",
    "    ('Junior', 'Python3 is awesome', 5, (8, 5, 2019)),\n",
    "    ('Amy', 'Yeah!!', 2, (8, 5, 2019)),\n",
    "    ('Paul', 'I prefer Python3 over Python2', 10, (8, 5, 2019)),\n",
    "    ('Zak', 'Absolutely!', 0, (8, 5, 2019)),\n",
    "    ('Amy', 'Anyone still using Python2? LOL', 15, (8, 5, 2019)),\n",
    "\n",
    "]"
   ]
  },
  {
   "cell_type": "code",
   "execution_count": 20,
   "metadata": {},
   "outputs": [
    {
     "data": {
      "text/plain": [
       "[('Amy', 'Anyone still using Python2? LOL', 15, (8, 5, 2019)),\n",
       " ('Amy', 'Yeah!!', 2, (8, 5, 2019)),\n",
       " ('Junior', 'Python3 is awesome', 5, (8, 5, 2019)),\n",
       " ('Paul', 'I prefer Python3 over Python2', 10, (8, 5, 2019)),\n",
       " ('Zak', 'Absolutely!', 0, (8, 5, 2019))]"
      ]
     },
     "execution_count": 20,
     "metadata": {},
     "output_type": "execute_result"
    }
   ],
   "source": [
    "sorted(tuple_comments) #<2>"
   ]
  },
  {
   "cell_type": "code",
   "execution_count": 22,
   "metadata": {},
   "outputs": [
    {
     "data": {
      "text/plain": [
       "[('Amy', 'Anyone still using Python2? LOL', 15, (8, 5, 2019)),\n",
       " ('Paul', 'I prefer Python3 over Python2', 10, (8, 5, 2019)),\n",
       " ('Junior', 'Python3 is awesome', 5, (8, 5, 2019)),\n",
       " ('Amy', 'Yeah!!', 2, (8, 5, 2019)),\n",
       " ('Zak', 'Absolutely!', 0, (8, 5, 2019))]"
      ]
     },
     "execution_count": 22,
     "metadata": {},
     "output_type": "execute_result"
    }
   ],
   "source": [
    "from operator import itemgetter\n",
    "sorted(tuple_comments, key=itemgetter(2), reverse=True) #<3>  key=lambda comment: comment[2]"
   ]
  },
  {
   "cell_type": "code",
   "execution_count": null,
   "metadata": {},
   "outputs": [],
   "source": []
  },
  {
   "cell_type": "code",
   "execution_count": 23,
   "metadata": {},
   "outputs": [],
   "source": [
    "# Example 3: sorting dict_comments by their number of likes\n",
    "dict_comments = [\n",
    "    dict(author='Junior', content='Python3 is awesome', likes=5, date=(8, 5, 2019)),\n",
    "    dict(author='Amy', content='Yeah!!', likes=2, date=(8, 5, 2019)),\n",
    "    dict(author='Paul', content='I prefer Python3 over Python2', likes=10, date=(8, 5, 2019)),\n",
    "    dict(author='Zak', content='Absolutely', likes=0, date=(8, 5, 2019)),\n",
    "]"
   ]
  },
  {
   "cell_type": "code",
   "execution_count": 24,
   "metadata": {},
   "outputs": [
    {
     "data": {
      "text/plain": [
       "[{'author': 'Paul',\n",
       "  'content': 'I prefer Python3 over Python2',\n",
       "  'likes': 10,\n",
       "  'date': (8, 5, 2019)},\n",
       " {'author': 'Junior',\n",
       "  'content': 'Python3 is awesome',\n",
       "  'likes': 5,\n",
       "  'date': (8, 5, 2019)},\n",
       " {'author': 'Amy', 'content': 'Yeah!!', 'likes': 2, 'date': (8, 5, 2019)},\n",
       " {'author': 'Zak', 'content': 'Absolutely', 'likes': 0, 'date': (8, 5, 2019)}]"
      ]
     },
     "execution_count": 24,
     "metadata": {},
     "output_type": "execute_result"
    }
   ],
   "source": [
    "sorted(dict_comments, key=itemgetter('likes'), reverse=True)  #<4>  key=lambda comment: comment['likes']"
   ]
  },
  {
   "cell_type": "code",
   "execution_count": 25,
   "metadata": {},
   "outputs": [],
   "source": [
    "# Example 4: sorting named_tuple_comments by their number of likes\n",
    "Comment = namedtuple('Comment', ['author', 'content', 'likes', 'date'])\n",
    "\n",
    "\n",
    "named_tuple_comments = [\n",
    "    Comment('Junior', 'Python3 is awesome', 5, (8, 5, 2019)),\n",
    "    Comment('Amy', 'Yeah!!', 2, (8, 5, 2019)),\n",
    "    Comment('Paul', 'I prefer Python3 over Python2', 10, (8, 5, 2019)),\n",
    "    Comment('Zak', 'Absolutely!', 0, (8, 5, 2019))\n",
    "]"
   ]
  },
  {
   "cell_type": "code",
   "execution_count": 27,
   "metadata": {},
   "outputs": [
    {
     "data": {
      "text/plain": [
       "[Comment(author='Paul', content='I prefer Python3 over Python2', likes=10, date=(8, 5, 2019)),\n",
       " Comment(author='Junior', content='Python3 is awesome', likes=5, date=(8, 5, 2019)),\n",
       " Comment(author='Amy', content='Yeah!!', likes=2, date=(8, 5, 2019)),\n",
       " Comment(author='Zak', content='Absolutely!', likes=0, date=(8, 5, 2019))]"
      ]
     },
     "execution_count": 27,
     "metadata": {},
     "output_type": "execute_result"
    }
   ],
   "source": [
    "from operator import attrgetter\n",
    "sorted(named_tuple_comments, key=attrgetter('likes'), reverse=True)  #<5> key=lambda comment: comment.likes"
   ]
  },
  {
   "cell_type": "code",
   "execution_count": null,
   "metadata": {},
   "outputs": [],
   "source": []
  },
  {
   "cell_type": "code",
   "execution_count": 28,
   "metadata": {},
   "outputs": [
    {
     "data": {
      "text/plain": [
       "[Comment(author='Paul', content='I prefer Python3 over Python2', likes=10, date=(8, 5, 2019)),\n",
       " Comment(author='Junior', content='Python3 is awesome', likes=5, date=(8, 5, 2019)),\n",
       " Comment(author='Zak', content='Absolutely!', likes=0, date=(8, 5, 2019)),\n",
       " Comment(author='Amy', content='Yeah!!', likes=2, date=(8, 5, 2019))]"
      ]
     },
     "execution_count": 28,
     "metadata": {},
     "output_type": "execute_result"
    }
   ],
   "source": [
    "# Example 5: sorting named_tuple_comments by their contents legnth\n",
    "sorted(named_tuple_comments, key=lambda comment: len(comment.content), reverse=True) #<6>"
   ]
  },
  {
   "cell_type": "code",
   "execution_count": null,
   "metadata": {},
   "outputs": [],
   "source": []
  },
  {
   "cell_type": "markdown",
   "metadata": {},
   "source": [
    "## Discussion\n",
    "- <0> By the default, list of str are sorted in lexicographic order, but that's not what we want.\n",
    "- <1> We provide a key function which will be applied to each element in the sequence and the returned value would be used for sorting.\n",
    "- <2> By default, list of tuples are sorted according to the order by which their inner elements would have been sorted from left to right. \n",
    "- <3> itemgetter enables us to sort by the number of likes only, which is at position 2 in the comment_tuple hence itemgetter(2)\n",
    "- <4> itemgetter also works with list of dicts, hence itemgetter('likes')\n",
    "- <5> For nametuples we can use itemgetter still (everything tuple can, namedtuple can :) ) but even better we can also use attrgetter('likes') which also works for custom defined objects.\n",
    "- <6> lambda function passed to the key argument to sort by the length of the comment.content"
   ]
  },
  {
   "cell_type": "code",
   "execution_count": null,
   "metadata": {},
   "outputs": [],
   "source": []
  }
 ],
 "metadata": {
  "kernelspec": {
   "display_name": "Python 3",
   "language": "python",
   "name": "python3"
  },
  "language_info": {
   "codemirror_mode": {
    "name": "ipython",
    "version": 3
   },
   "file_extension": ".py",
   "mimetype": "text/x-python",
   "name": "python",
   "nbconvert_exporter": "python",
   "pygments_lexer": "ipython3",
   "version": "3.6.5"
  }
 },
 "nbformat": 4,
 "nbformat_minor": 2
}
