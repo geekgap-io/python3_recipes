{
 "cells": [
  {
   "cell_type": "markdown",
   "metadata": {},
   "source": [
    "## Problem\n",
    "- Suppose you maintain an e-commerce store and currently have 3 customers with 4 items in sale,\n",
    "- You would like to keep an updated record of the scores each customer gives to a purchased item.\n",
    "- How could you do that using lists"
   ]
  },
  {
   "cell_type": "markdown",
   "metadata": {},
   "source": [
    "## Answer\n",
    "- We can use a list of lists. The outer list representing the the customers and the inner list the items.\n",
    "- We can initialize a list of list with all elements to None initialy and update once a customer purchase and review and item\n",
    "- However there is a wrong and a right way to initialize a list of list: Let's start with the wrong way."
   ]
  },
  {
   "cell_type": "code",
   "execution_count": 11,
   "metadata": {},
   "outputs": [
    {
     "name": "stdout",
     "output_type": "stream",
     "text": [
      "[[None, None, None, None], [None, None, None, None], [None, None, None, None]]\n"
     ]
    }
   ],
   "source": [
    "### The wrong way:\n",
    "reviews = [[None] * 4] * 3 #<0>\n",
    "print(reviews)"
   ]
  },
  {
   "cell_type": "code",
   "execution_count": 12,
   "metadata": {},
   "outputs": [
    {
     "name": "stdout",
     "output_type": "stream",
     "text": [
      "[[None, None, None, 3.9], [None, None, None, 3.9], [None, None, None, 3.9]]\n",
      "first  inner list memory ID =  4343272776\n",
      "second inner list memory ID =  4343272776\n",
      "third  inner list memory ID =  4343272776\n"
     ]
    }
   ],
   "source": [
    "# Let's say customer 2 purchases and reviews item 4 with a score of 3.9\n",
    "reviews[1][3] = 3.9 #<1>\n",
    "print(reviews) #<2>\n",
    "\n",
    "print('first  inner list memory ID = ', id(reviews[0])) #<3>\n",
    "print('second inner list memory ID = ', id(reviews[1])) #<3>\n",
    "print('third  inner list memory ID = ', id(reviews[2])) #<3>"
   ]
  },
  {
   "cell_type": "code",
   "execution_count": 13,
   "metadata": {},
   "outputs": [
    {
     "name": "stdout",
     "output_type": "stream",
     "text": [
      "[[None, None, None, None], [None, None, None, None], [None, None, None, None]]\n"
     ]
    }
   ],
   "source": [
    "### The right way: with (nested) list comprehension\n",
    "reviews = [[None] * 4 for i in range(3)]  #<4>\n",
    "#reviews = [[None for j in range(6)] for i in range(3)] #is also good\n",
    "print(reviews)"
   ]
  },
  {
   "cell_type": "code",
   "execution_count": 15,
   "metadata": {},
   "outputs": [
    {
     "name": "stdout",
     "output_type": "stream",
     "text": [
      "[[None, None, None, None], [None, None, None, 3.9], [None, None, None, None]]\n",
      "first  inner list memory ID =  4343509384\n",
      "second inner list memory ID =  4340605000\n",
      "third  inner list memory ID =  4343274760\n"
     ]
    }
   ],
   "source": [
    "# Let's say customer 2 purchases and reviews item 4 with a score of 3.9\n",
    "reviews[1][3] = 3.9 #<5>\n",
    "print(reviews) #<6>\n",
    "\n",
    "print('first  inner list memory ID = ', id(reviews[0])) #<7>\n",
    "print('second inner list memory ID = ', id(reviews[1])) #<7>\n",
    "print('third  inner list memory ID = ', id(reviews[2])) #<7>"
   ]
  },
  {
   "cell_type": "markdown",
   "metadata": {},
   "source": [
    "## Discussion\n",
    "- <0> Wrong initialization of a list of lists.\n",
    "- <1, 2> Because the initialization was done poorly, editing a single cell causes changes elsewhere.\n",
    "- <3> For proof we can see the all the elements of the outer list are merely references pointing to the same inner list object: The id in memory is the same.\n",
    "\n",
    "- <4> Right initialization of a list of lists.\n",
    "- <5, 6> Because the initialization was done correctly, editing a single cell doesn't causes changes elsewhere.\n",
    "- <7> For proof we can see each element in the outer list is a reference pointing to a different inner list object: The id in memory are different.\n"
   ]
  },
  {
   "cell_type": "code",
   "execution_count": null,
   "metadata": {},
   "outputs": [],
   "source": []
  }
 ],
 "metadata": {
  "kernelspec": {
   "display_name": "Python 3",
   "language": "python",
   "name": "python3"
  },
  "language_info": {
   "codemirror_mode": {
    "name": "ipython",
    "version": 3
   },
   "file_extension": ".py",
   "mimetype": "text/x-python",
   "name": "python",
   "nbconvert_exporter": "python",
   "pygments_lexer": "ipython3",
   "version": "3.6.5"
  }
 },
 "nbformat": 4,
 "nbformat_minor": 2
}
