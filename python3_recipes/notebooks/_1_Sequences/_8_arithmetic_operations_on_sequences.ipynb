{
 "cells": [
  {
   "cell_type": "markdown",
   "metadata": {},
   "source": [
    "## Problem\n",
    "- Which arithmetic operators are allowed on sequences\n",
    "- How to use them properly"
   ]
  },
  {
   "cell_type": "code",
   "execution_count": 2,
   "metadata": {},
   "outputs": [
    {
     "name": "stdout",
     "output_type": "stream",
     "text": [
      "+   -   *   /\n",
      "+=  -=  *=  /=\n"
     ]
    }
   ],
   "source": [
    "print('+   -   *   /')\n",
    "print('+=  -=  *=  /=')"
   ]
  },
  {
   "cell_type": "markdown",
   "metadata": {},
   "source": [
    "## Answer\n",
    "- For most sequences the allowed built-in operators are: + , * , += and *=\n",
    "- But you have to be careful when using them as they under the hood they behave differently on mutable and immutalbe sequences"
   ]
  },
  {
   "cell_type": "code",
   "execution_count": 3,
   "metadata": {},
   "outputs": [],
   "source": [
    "s = 'bob'\n",
    "l = [1, 2, 3]"
   ]
  },
  {
   "cell_type": "code",
   "execution_count": 4,
   "metadata": {},
   "outputs": [
    {
     "data": {
      "text/plain": [
       "'bobbob'"
      ]
     },
     "execution_count": 4,
     "metadata": {},
     "output_type": "execute_result"
    }
   ],
   "source": [
    "ss = s + s #<0>\n",
    "ss"
   ]
  },
  {
   "cell_type": "code",
   "execution_count": 5,
   "metadata": {},
   "outputs": [
    {
     "data": {
      "text/plain": [
       "[1, 2, 3, 1, 2, 3]"
      ]
     },
     "execution_count": 5,
     "metadata": {},
     "output_type": "execute_result"
    }
   ],
   "source": [
    "ll = l + l #<0>\n",
    "ll"
   ]
  },
  {
   "cell_type": "code",
   "execution_count": 6,
   "metadata": {},
   "outputs": [
    {
     "data": {
      "text/plain": [
       "'bobbobbob'"
      ]
     },
     "execution_count": 6,
     "metadata": {},
     "output_type": "execute_result"
    }
   ],
   "source": [
    "sss = s * 3 #<0>\n",
    "sss"
   ]
  },
  {
   "cell_type": "code",
   "execution_count": 7,
   "metadata": {},
   "outputs": [
    {
     "ename": "TypeError",
     "evalue": "unsupported operand type(s) for -: 'str' and 'str'",
     "output_type": "error",
     "traceback": [
      "\u001b[0;31m---------------------------------------------------------------------------\u001b[0m",
      "\u001b[0;31mTypeError\u001b[0m                                 Traceback (most recent call last)",
      "\u001b[0;32m<ipython-input-7-57897aef7d57>\u001b[0m in \u001b[0;36m<module>\u001b[0;34m\u001b[0m\n\u001b[0;32m----> 1\u001b[0;31m \u001b[0ms\u001b[0m \u001b[0;34m-\u001b[0m \u001b[0ms\u001b[0m  \u001b[0;31m#<1>\u001b[0m\u001b[0;34m\u001b[0m\u001b[0m\n\u001b[0m\u001b[1;32m      2\u001b[0m \u001b[0;31m# same applies for: l-l , l*l, l/l, s*s, s/s\u001b[0m\u001b[0;34m\u001b[0m\u001b[0;34m\u001b[0m\u001b[0m\n",
      "\u001b[0;31mTypeError\u001b[0m: unsupported operand type(s) for -: 'str' and 'str'"
     ]
    }
   ],
   "source": [
    "s - s  #<1>\n",
    "# same applies for: l-l , l*l, l/l, s*s, s/s"
   ]
  },
  {
   "cell_type": "code",
   "execution_count": 8,
   "metadata": {},
   "outputs": [
    {
     "name": "stdout",
     "output_type": "stream",
     "text": [
      "4515336072\n",
      "[1, 2, 3, 4, 5, 6]\n",
      "4515202504\n"
     ]
    }
   ],
   "source": [
    "# BAD WAY\n",
    "l = [1, 2, 3]\n",
    "print(id(l))\n",
    "\n",
    "l = l + [4, 5, 6]    #<2>\n",
    "print(l)\n",
    "print(id(l))"
   ]
  },
  {
   "cell_type": "code",
   "execution_count": 9,
   "metadata": {},
   "outputs": [
    {
     "name": "stdout",
     "output_type": "stream",
     "text": [
      "4515231048\n",
      "[1, 2, 3, 4, 5, 6]\n",
      "4515231048\n"
     ]
    }
   ],
   "source": [
    "# GOOD WAY\n",
    "l = [1, 2, 3]\n",
    "print(id(l))\n",
    "\n",
    "l += [4, 5, 6]     #<3>\n",
    "print(l)\n",
    "print(id(l))"
   ]
  },
  {
   "cell_type": "code",
   "execution_count": 10,
   "metadata": {},
   "outputs": [
    {
     "name": "stdout",
     "output_type": "stream",
     "text": [
      "4515247944\n",
      "[1, 2, 3, 1, 2, 3]\n",
      "4515247944\n"
     ]
    }
   ],
   "source": [
    "# GOOD WAY\n",
    "l = [1, 2, 3]\n",
    "print(id(l))\n",
    "\n",
    "l *= 2              #<4>\n",
    "# BAD WAY l = l * 2\n",
    "print(l)\n",
    "print(id(l))"
   ]
  },
  {
   "cell_type": "code",
   "execution_count": 11,
   "metadata": {},
   "outputs": [
    {
     "name": "stdout",
     "output_type": "stream",
     "text": [
      "4515337248\n",
      "Pyton3\n",
      "4515275584\n"
     ]
    }
   ],
   "source": [
    "# BAD WAY\n",
    "s = 'Pyt'\n",
    "print(id(s))\n",
    "s += 'on3'         #<5>\n",
    "# exactly same performance as doing s=s+'on3', which was not the case for list, why?\n",
    "print(s)\n",
    "print(id(s))"
   ]
  },
  {
   "cell_type": "code",
   "execution_count": 12,
   "metadata": {},
   "outputs": [
    {
     "name": "stdout",
     "output_type": "stream",
     "text": [
      "Pyton3\n"
     ]
    }
   ],
   "source": [
    "# BAD WAY\n",
    "c1, c2, c3 = 'Pyt', 'on', '3'\n",
    "s = c1 + c2 + c3   #<6>\n",
    "print(s)"
   ]
  },
  {
   "cell_type": "code",
   "execution_count": 16,
   "metadata": {},
   "outputs": [
    {
     "name": "stdout",
     "output_type": "stream",
     "text": [
      "Pyton3\n"
     ]
    }
   ],
   "source": [
    "# GOOD WAY\n",
    "c1, c2, c3 = 'Pyt', 'on', '3'\n",
    "s = ''.join([c1, c2, c3])    #<7>\n",
    "print(s)"
   ]
  },
  {
   "cell_type": "markdown",
   "metadata": {},
   "source": [
    "## Discussion\n",
    "- <0> + and * are allowed operators on sequences\n",
    "- <1> - / are not allowed\n",
    "- <2> when updating a mutable sequence with * or +, never use seq = seq + other_seq   OR seq = seq * number as this is slower because creating a new sequence object in memory and garabe-collecting the pre-existing one.\n",
    "- <3, 4> += and \\*= are the augmented assignment operators allowed and should be preferred over l = l * 2 or l = l + l2\n",
    "- <5> for str and all immutable sequences += is not better than s = s + 'on3' because anyway we have to create a new object in memory and delete the old one\n",
    "- <6> not efficient because lot of creation and deletion happening under the cover, imagine doing that in a loop: it would be desastrous.\n",
    "- <7> The best and most efficient way to do string concatenation in Python."
   ]
  }
 ],
 "metadata": {
  "kernelspec": {
   "display_name": "Python 3",
   "language": "python",
   "name": "python3"
  },
  "language_info": {
   "codemirror_mode": {
    "name": "ipython",
    "version": 3
   },
   "file_extension": ".py",
   "mimetype": "text/x-python",
   "name": "python",
   "nbconvert_exporter": "python",
   "pygments_lexer": "ipython3",
   "version": "3.6.5"
  }
 },
 "nbformat": 4,
 "nbformat_minor": 2
}
