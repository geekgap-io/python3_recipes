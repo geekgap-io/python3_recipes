{
 "cells": [
  {
   "cell_type": "markdown",
   "metadata": {},
   "source": [
    "## Problem\n",
    "- Uppercasing all the comments without using the indexing syntax."
   ]
  },
  {
   "cell_type": "code",
   "execution_count": 4,
   "metadata": {},
   "outputs": [],
   "source": [
    "comments = [\n",
    "    'Python3 is awesome',\n",
    "    'Indeed, python3 is great',\n",
    "    'Absolutely ... Could not agree more !'\n",
    "]"
   ]
  },
  {
   "cell_type": "markdown",
   "metadata": {},
   "source": [
    "## Answer\n",
    "-  we can use map function"
   ]
  },
  {
   "cell_type": "code",
   "execution_count": 12,
   "metadata": {},
   "outputs": [
    {
     "name": "stdout",
     "output_type": "stream",
     "text": [
      "['Python3 is awesome', 'Indeed, python3 is great', 'Absolutely ... Could not agree more !']\n",
      "['PYTHON3 IS AWESOME', 'INDEED, PYTHON3 IS GREAT', 'ABSOLUTELY ... COULD NOT AGREE MORE !']\n"
     ]
    }
   ],
   "source": [
    "uppercased_comments = list(map(str.upper, comments)) #<0>\n",
    "print(comments) #<1>\n",
    "print(uppercased_comments)"
   ]
  },
  {
   "cell_type": "code",
   "execution_count": 13,
   "metadata": {},
   "outputs": [
    {
     "name": "stdout",
     "output_type": "stream",
     "text": [
      "['PYTHON3 IS AWESOME', 'INDEED, PYTHON3 IS GREAT', 'ABSOLUTELY ... COULD NOT AGREE MORE !']\n"
     ]
    }
   ],
   "source": [
    "uppercased_comments = list(map(lambda comment: comment.upper(), comments)) #<2>\n",
    "print(uppercased_comments)"
   ]
  },
  {
   "cell_type": "markdown",
   "metadata": {},
   "source": [
    "## Discussion\n",
    "- <0> the map function takes as first argument the transformation function to apply to each individual element of the list\n",
    "- <0> the map function returns a generator(covered in chapter 6), hence we have to call list() on the returned generator\n",
    "- <1> The original comments list is unchanged\n",
    "- <2> Instead of using the upper function from the str module, we can provide a custom defined function, in this case a lambda function."
   ]
  },
  {
   "cell_type": "code",
   "execution_count": null,
   "metadata": {},
   "outputs": [],
   "source": []
  },
  {
   "cell_type": "markdown",
   "metadata": {},
   "source": [
    "## Problem\n",
    "- Filtering only the comments with strictly more than 20 characters without using sequence indexing syntax nor any if clause."
   ]
  },
  {
   "cell_type": "markdown",
   "metadata": {},
   "source": [
    "## Answer\n",
    "- we can use filter function"
   ]
  },
  {
   "cell_type": "code",
   "execution_count": 14,
   "metadata": {},
   "outputs": [
    {
     "name": "stdout",
     "output_type": "stream",
     "text": [
      "['Indeed, python3 is great', 'Absolutely ... Could not agree more !']\n"
     ]
    }
   ],
   "source": [
    "def more_than_20_characters(comment):\n",
    "    return len(comment) > 20\n",
    "\n",
    "filtered_comments1 = list(filter(more_than_20_characters, comments)) #<0>\n",
    "print(filtered_comments1)"
   ]
  },
  {
   "cell_type": "code",
   "execution_count": 15,
   "metadata": {},
   "outputs": [
    {
     "name": "stdout",
     "output_type": "stream",
     "text": [
      "['Indeed, python3 is great', 'Absolutely ... Could not agree more !']\n"
     ]
    }
   ],
   "source": [
    "filtered_comments2 = list(filter(lambda comment: len(comment) > 20, comments)) #<1>\n",
    "print(filtered_comments2)"
   ]
  },
  {
   "cell_type": "code",
   "execution_count": 16,
   "metadata": {},
   "outputs": [
    {
     "name": "stdout",
     "output_type": "stream",
     "text": [
      "['Python3 is awesome', 'Indeed, python3 is great', 'Absolutely ... Could not agree more !']\n"
     ]
    }
   ],
   "source": [
    "print(comments) #<2>"
   ]
  },
  {
   "cell_type": "markdown",
   "metadata": {},
   "source": [
    "## Discussion\n",
    "- <0, 1> the filter function returns a generator(covered in chapter 6), hence we have to call list() on the returned generator\n",
    "- <0> the filtering function is created using the def keyword\n",
    "- <1> for one-liner function like here, lambda functions are ideal\n",
    "- <2> The original comments list is unchanged\n"
   ]
  },
  {
   "cell_type": "code",
   "execution_count": null,
   "metadata": {},
   "outputs": [],
   "source": []
  }
 ],
 "metadata": {
  "kernelspec": {
   "display_name": "Python 3",
   "language": "python",
   "name": "python3"
  },
  "language_info": {
   "codemirror_mode": {
    "name": "ipython",
    "version": 3
   },
   "file_extension": ".py",
   "mimetype": "text/x-python",
   "name": "python",
   "nbconvert_exporter": "python",
   "pygments_lexer": "ipython3",
   "version": "3.6.5"
  }
 },
 "nbformat": 4,
 "nbformat_minor": 2
}
