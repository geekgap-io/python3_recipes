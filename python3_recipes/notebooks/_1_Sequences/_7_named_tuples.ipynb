{
 "cells": [
  {
   "cell_type": "code",
   "execution_count": 2,
   "metadata": {},
   "outputs": [],
   "source": [
    "from collections import namedtuple"
   ]
  },
  {
   "cell_type": "markdown",
   "metadata": {},
   "source": [
    "## Problem\n",
    "- Your code is getting harder to read because you are accessing sequences elements by indices all over the place\n",
    "- How can you make it cleaner"
   ]
  },
  {
   "cell_type": "code",
   "execution_count": 25,
   "metadata": {},
   "outputs": [
    {
     "data": {
      "text/plain": [
       "('Junior', 'Python3 is awesome', 5, (8, 5, 2019))"
      ]
     },
     "execution_count": 25,
     "metadata": {},
     "output_type": "execute_result"
    }
   ],
   "source": [
    "comment = ('Junior', 'Python3 is awesome', 5, (8, 5, 2019))\n",
    "comment"
   ]
  },
  {
   "cell_type": "markdown",
   "metadata": {},
   "source": [
    "## Answer\n",
    "-  Use named tuples"
   ]
  },
  {
   "cell_type": "code",
   "execution_count": 26,
   "metadata": {},
   "outputs": [
    {
     "name": "stdout",
     "output_type": "stream",
     "text": [
      "<class '__main__.Date'> <class '__main__.Comment'>\n"
     ]
    }
   ],
   "source": [
    "Date = namedtuple('Date', ['day', 'month', 'year'])\n",
    "Comment = namedtuple('Comment', ['author', 'content', 'likes', 'date'])\n",
    "print(Date, Comment)"
   ]
  },
  {
   "cell_type": "code",
   "execution_count": 27,
   "metadata": {},
   "outputs": [
    {
     "data": {
      "text/plain": [
       "Comment(author='Junior', content='Python3 is awesome', likes=10, date=Date(day=9, month=5, year=2019))"
      ]
     },
     "execution_count": 27,
     "metadata": {},
     "output_type": "execute_result"
    }
   ],
   "source": [
    "comment1 = Comment('Junior', 'Python3 is awesome', 10, Date(9, 5, 2019))    #<0>\n",
    "comment1"
   ]
  },
  {
   "cell_type": "code",
   "execution_count": 28,
   "metadata": {},
   "outputs": [
    {
     "name": "stdout",
     "output_type": "stream",
     "text": [
      "Junior\n",
      "Junior\n"
     ]
    }
   ],
   "source": [
    "print(comment1.author)  #<1>\n",
    "print(comment1[0])  #<1>"
   ]
  },
  {
   "cell_type": "code",
   "execution_count": 29,
   "metadata": {},
   "outputs": [
    {
     "name": "stdout",
     "output_type": "stream",
     "text": [
      "True\n"
     ]
    }
   ],
   "source": [
    "print(comment1.author is comment1[0]) #<1>"
   ]
  },
  {
   "cell_type": "code",
   "execution_count": 31,
   "metadata": {},
   "outputs": [
    {
     "name": "stdout",
     "output_type": "stream",
     "text": [
      "2019\n",
      "2019\n",
      "2019\n",
      "2019\n"
     ]
    }
   ],
   "source": [
    "print(comment1.date.year) #<2>\n",
    "print(comment1.date[2]) #<2>\n",
    "print(comment1[3].year) #<2>\n",
    "print(comment1[3][2]) #<2>"
   ]
  },
  {
   "cell_type": "code",
   "execution_count": 33,
   "metadata": {},
   "outputs": [
    {
     "name": "stdout",
     "output_type": "stream",
     "text": [
      "Comment(author='Jr', content='Python3 is really cool', likes=15, date=Date(day=9, month=5, year=2019))\n",
      "Python3 is really cool\n",
      "15\n",
      "5\n"
     ]
    }
   ],
   "source": [
    "comment2 = Comment(date=Date(9, 5, year=2019), author='Jr', likes=15, content='Python3 is really cool') #<3>\n",
    "print(comment2)\n",
    "_, comment_content, likes, date = comment2  #<4>\n",
    "print(comment_content)\n",
    "print(likes)\n",
    "print(date.month)"
   ]
  },
  {
   "cell_type": "code",
   "execution_count": 34,
   "metadata": {},
   "outputs": [
    {
     "data": {
      "text/plain": [
       "(True, True, True)"
      ]
     },
     "execution_count": 34,
     "metadata": {},
     "output_type": "execute_result"
    }
   ],
   "source": [
    "isinstance(date, tuple) , isinstance(comment1, tuple) , isinstance(comment2, tuple) #<5>"
   ]
  },
  {
   "cell_type": "code",
   "execution_count": 37,
   "metadata": {},
   "outputs": [
    {
     "ename": "AttributeError",
     "evalue": "can't set attribute",
     "output_type": "error",
     "traceback": [
      "\u001b[0;31m---------------------------------------------------------------------------\u001b[0m",
      "\u001b[0;31mAttributeError\u001b[0m                            Traceback (most recent call last)",
      "\u001b[0;32m<ipython-input-37-9a67a9f252a8>\u001b[0m in \u001b[0;36m<module>\u001b[0;34m\u001b[0m\n\u001b[0;32m----> 1\u001b[0;31m \u001b[0mcomment2\u001b[0m\u001b[0;34m.\u001b[0m\u001b[0mauthor\u001b[0m \u001b[0;34m=\u001b[0m \u001b[0;34m'James'\u001b[0m   \u001b[0;31m#<6>\u001b[0m\u001b[0;34m\u001b[0m\u001b[0m\n\u001b[0m",
      "\u001b[0;31mAttributeError\u001b[0m: can't set attribute"
     ]
    }
   ],
   "source": [
    "comment2.author = 'James'   #<6>"
   ]
  },
  {
   "cell_type": "markdown",
   "metadata": {},
   "source": [
    "## Discussion\n",
    "- <0> Initialization of named tuples is the same as for regurlar tuples and could be nested\n",
    "- <1> each element could be accessed either by index or name; both are perfectly equivalent with the later being much more readable\n",
    "- <2> we can access nested named tuple elements too\n",
    "- <3> named tuples initialization can be done with positional or keyword arguments, or both.\n",
    "- <4> tuple unpacking still applies.\n",
    "- <5> in fact a namedtuple is just a special type of tuple.\n",
    "- <6> named tuples may look like classes' objects with attribute but they are immutable unlike classes' objects."
   ]
  },
  {
   "cell_type": "code",
   "execution_count": null,
   "metadata": {},
   "outputs": [],
   "source": []
  }
 ],
 "metadata": {
  "kernelspec": {
   "display_name": "Python 3",
   "language": "python",
   "name": "python3"
  },
  "language_info": {
   "codemirror_mode": {
    "name": "ipython",
    "version": 3
   },
   "file_extension": ".py",
   "mimetype": "text/x-python",
   "name": "python",
   "nbconvert_exporter": "python",
   "pygments_lexer": "ipython3",
   "version": "3.6.5"
  }
 },
 "nbformat": 4,
 "nbformat_minor": 2
}
