{
 "cells": [
  {
   "cell_type": "markdown",
   "metadata": {},
   "source": [
    "## Problem\n",
    "- You are maintaining a sorted list of reviews for a movie and would like to know if a particular score has been given to that movie and it the case what is the rank of that review (eg: 0 if the worse review)\n",
    "- However you want to search for that information in the most efficient way possible "
   ]
  },
  {
   "cell_type": "code",
   "execution_count": 1,
   "metadata": {},
   "outputs": [
    {
     "name": "stdout",
     "output_type": "stream",
     "text": [
      "sorted_reviews    = [1.0, 1.5, 2.1, 2.5, 2.5, 2.8, 3.0, 3.4, 3.9, 4.1, 4.2, 4.7, 5.0]\n",
      "reviews_to_search = [1.5, 3.1, 6.0, 5.0]\n"
     ]
    }
   ],
   "source": [
    "sorted_reviews = [1.0, 1.5, 2.1, 2.5, 2.5, 2.8, 3.0, 3.4, 3.9, 4.1, 4.2, 4.7, 5.0]\n",
    "print(f'sorted_reviews    = {sorted_reviews}')\n",
    "\n",
    "reviews_to_search = [1.5, 3.1, 6.0, 5.0]\n",
    "print(f'reviews_to_search = {reviews_to_search}')"
   ]
  },
  {
   "cell_type": "markdown",
   "metadata": {},
   "source": [
    "- Time-Complexity Comparaison\n",
    "\n",
    "<p align=\"center\"><img width=\"35%\" src=\"images/time-complexity.png\"/></p>"
   ]
  },
  {
   "cell_type": "markdown",
   "metadata": {},
   "source": [
    "## Answer\n",
    "- use the bisect.bisect_left function which implements binary-search and enables us to search for a sorted list"
   ]
  },
  {
   "cell_type": "code",
   "execution_count": 3,
   "metadata": {},
   "outputs": [],
   "source": [
    "import bisect #<0>"
   ]
  },
  {
   "cell_type": "markdown",
   "metadata": {},
   "source": [
    "#### Let's search if if a given score has been given to the movie"
   ]
  },
  {
   "cell_type": "code",
   "execution_count": 4,
   "metadata": {},
   "outputs": [
    {
     "name": "stdout",
     "output_type": "stream",
     "text": [
      "[HIT]review=1.5 found in position=1\n",
      "[MISS]review=3.1 not found in sorted_reviews\n",
      "[MISS]review=6.0 not found in sorted_reviews\n",
      "[HIT]review=5.0 found in position=12\n"
     ]
    }
   ],
   "source": [
    "# BAD WAY: linear-search ==> O(n) time-complexity\n",
    "\n",
    "for new_review in reviews_to_search:\n",
    "    # we could use in operator instead but just to make the point explicit let's use a for loop\n",
    "    for position, review in enumerate(sorted_reviews): #<1>\n",
    "        if review == new_review:\n",
    "            print(f'[HIT]review={new_review} found in position={position}')\n",
    "            break\n",
    "    else:\n",
    "        print(f'[MISS]review={new_review} not found in sorted_reviews')"
   ]
  },
  {
   "cell_type": "code",
   "execution_count": 5,
   "metadata": {},
   "outputs": [
    {
     "name": "stdout",
     "output_type": "stream",
     "text": [
      "[HIT]review=1.5 found in position=1\n",
      "[MISS]review=3.1 not found in sorted_reviews\n",
      "[MISS]review=6.0 not found in sorted_reviews\n",
      "[HIT]review=5.0 found in position=12\n"
     ]
    }
   ],
   "source": [
    "# GOOD WAY: binary-search ==> 0(log n) time-complexity\n",
    "\n",
    "for new_review in reviews_to_search:\n",
    "    position = bisect.bisect_left(sorted_reviews, new_review) #<2>\n",
    "    if position < len(sorted_reviews) and sorted_reviews[position] == new_review: #<3>\n",
    "        print(f'[HIT]review={new_review} found in position={position}')\n",
    "    else:\n",
    "        print(f'[MISS]review={new_review} not found in sorted_reviews')"
   ]
  },
  {
   "cell_type": "markdown",
   "metadata": {},
   "source": [
    "## Discussion\n",
    "- <0> importing the bisect module which provides 0(log n) efficient implementation of search and insertion based on binary-search.\n",
    "- <1> by doing a linear search we are not taking advantage of the fact that the list of reviews is already sorted.\n",
    "- <2> bisect.bisect_left takes advantage of the fact that the list is sorted to reduce the search complexity from 0(n) to 0(log n)\n",
    "- <3> bisect.bisect_left returns the position where the search value IS or SHOULD BE if not yet in the list."
   ]
  },
  {
   "cell_type": "code",
   "execution_count": null,
   "metadata": {},
   "outputs": [],
   "source": []
  },
  {
   "cell_type": "markdown",
   "metadata": {},
   "source": [
    "## Problem\n",
    "- How to insert new reviews in a list of sorted reviews efficiently"
   ]
  },
  {
   "cell_type": "markdown",
   "metadata": {},
   "source": [
    "## Answer\n",
    "- use the bisect.insort_left function which search for the right position then insert by shifting all the other elements to the right."
   ]
  },
  {
   "cell_type": "code",
   "execution_count": 6,
   "metadata": {},
   "outputs": [],
   "source": [
    "#  VERY BAD WAY: append to the end then sort ==> O(n * log n) \n",
    "\n",
    "sorted_reviews = [1.0,  2.1, 2.5, 2.8, 3.0, 3.9, 4.1, 4.7]\n",
    "reviews_to_insert = [6.0, 3.4, 5.0, 1.5]"
   ]
  },
  {
   "cell_type": "code",
   "execution_count": 7,
   "metadata": {},
   "outputs": [
    {
     "data": {
      "text/plain": [
       "[1.0, 2.1, 2.5, 2.8, 3.0, 3.9, 4.1, 4.7, 6.0, 3.4, 5.0, 1.5]"
      ]
     },
     "execution_count": 7,
     "metadata": {},
     "output_type": "execute_result"
    }
   ],
   "source": [
    "sorted_reviews += reviews_to_insert\n",
    "sorted_reviews #<0>"
   ]
  },
  {
   "cell_type": "code",
   "execution_count": 8,
   "metadata": {},
   "outputs": [
    {
     "data": {
      "text/plain": [
       "[1.0, 1.5, 2.1, 2.5, 2.8, 3.0, 3.4, 3.9, 4.1, 4.7, 5.0, 6.0]"
      ]
     },
     "execution_count": 8,
     "metadata": {},
     "output_type": "execute_result"
    }
   ],
   "source": [
    "sorted_reviews.sort() #<1>  \n",
    "sorted_reviews"
   ]
  },
  {
   "cell_type": "code",
   "execution_count": null,
   "metadata": {},
   "outputs": [],
   "source": []
  },
  {
   "cell_type": "code",
   "execution_count": 9,
   "metadata": {},
   "outputs": [
    {
     "name": "stdout",
     "output_type": "stream",
     "text": [
      "Initial sorted_reviews             = [1.0, 2.1, 2.5, 2.8, 3.0, 3.9, 4.1, 4.7]\n",
      "sorted_reviews after inserting 6.0 = [1.0, 2.1, 2.5, 2.8, 3.0, 3.9, 4.1, 4.7, 6.0]\n",
      "sorted_reviews after inserting 3.4 = [1.0, 2.1, 2.5, 2.8, 3.0, 3.4, 3.9, 4.1, 4.7, 6.0]\n",
      "sorted_reviews after inserting 5.0 = [1.0, 2.1, 2.5, 2.8, 3.0, 3.4, 3.9, 4.1, 4.7, 5.0, 6.0]\n",
      "sorted_reviews after inserting 1.5 = [1.0, 1.5, 2.1, 2.5, 2.8, 3.0, 3.4, 3.9, 4.1, 4.7, 5.0, 6.0]\n"
     ]
    }
   ],
   "source": [
    "# GOOD WAY: use bisect.insort_left ==> O(n) + 0(log n) ~ O(n) \n",
    "\n",
    "sorted_reviews = [1.0,  2.1, 2.5, 2.8, 3.0, 3.9, 4.1, 4.7]\n",
    "reviews_to_insert = [6.0, 3.4, 5.0, 1.5]\n",
    "\n",
    "print(f'Initial sorted_reviews             = {sorted_reviews}')\n",
    "\n",
    "for new_review in reviews_to_insert:\n",
    "    bisect.insort_left(sorted_reviews, new_review) #<2> \n",
    "    print(f'sorted_reviews after inserting {new_review} = {sorted_reviews}')"
   ]
  },
  {
   "cell_type": "markdown",
   "metadata": {},
   "source": [
    "## Discussion\n",
    "- <0> we append all the new reviews to insert and the end of the sorted_reviews list\n",
    "- <1> best sorting algorithms take O(n * log n) time to sort \n",
    "- <2> takes  0(log n) to search right insert position and O(n) to shift."
   ]
  }
 ],
 "metadata": {
  "kernelspec": {
   "display_name": "Python 3",
   "language": "python",
   "name": "python3"
  },
  "language_info": {
   "codemirror_mode": {
    "name": "ipython",
    "version": 3
   },
   "file_extension": ".py",
   "mimetype": "text/x-python",
   "name": "python",
   "nbconvert_exporter": "python",
   "pygments_lexer": "ipython3",
   "version": "3.6.5"
  }
 },
 "nbformat": 4,
 "nbformat_minor": 2
}
