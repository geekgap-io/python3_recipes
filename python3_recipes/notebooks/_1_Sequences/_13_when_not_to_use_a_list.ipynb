{
 "cells": [
  {
   "cell_type": "markdown",
   "metadata": {},
   "source": [
    "## Problem\n",
    "- Let's say we just care about the 10 latest reviews given to a movie, and each time a new review is added we discard the oldest one before adding the new one in a FIFO way (First-In First Out)\n",
    "- We can do this using a list and consider the oldest review at position 0 and the latest review at position 9\n",
    "- The problem with this solution is that it involves a lot of reviews.pop(o) which is costly. Can we do better?"
   ]
  },
  {
   "cell_type": "code",
   "execution_count": 1,
   "metadata": {},
   "outputs": [
    {
     "name": "stdout",
     "output_type": "stream",
     "text": [
      "last10_reviews = [2.5, 1.0, 1.4, 5.0, 3.0, 3.9, 1.8, 4.2, 3.4, 4.7]\n",
      "oldest_review = 2.5\n",
      "newest_review = 4.7\n"
     ]
    }
   ],
   "source": [
    "last10_reviews = [2.5, 1.0, 1.4, 5.0, 3.0, 3.9, 1.8, 4.2, 3.4, 4.7]\n",
    "oldest, *_ ,newest = last10_reviews\n",
    "print(f'last10_reviews = {last10_reviews}')\n",
    "print(f'oldest_review = {oldest}')\n",
    "print(f'newest_review = {newest}')"
   ]
  },
  {
   "cell_type": "markdown",
   "metadata": {},
   "source": [
    "## Answer\n",
    "- Yes we can do better using a deque"
   ]
  },
  {
   "cell_type": "code",
   "execution_count": 75,
   "metadata": {},
   "outputs": [],
   "source": [
    "from collections import deque #<0> deque stands for double-ended queue\n",
    "new_review = 2.5"
   ]
  },
  {
   "cell_type": "code",
   "execution_count": 76,
   "metadata": {},
   "outputs": [
    {
     "data": {
      "text/plain": [
       "([1.0, 1.4, 5.0, 3.0, 3.9, 1.8, 4.2, 3.4, 4.7], 9)"
      ]
     },
     "execution_count": 76,
     "metadata": {},
     "output_type": "execute_result"
    }
   ],
   "source": [
    "# BAD way to store the last 10 reviews: using a list\n",
    "\n",
    "# first remove the oldest review\n",
    "last10_reviews.pop(0) #<1>   time-complexity = O(n)\n",
    "last10_reviews, len(last10_reviews)"
   ]
  },
  {
   "cell_type": "code",
   "execution_count": 77,
   "metadata": {},
   "outputs": [
    {
     "data": {
      "text/plain": [
       "([1.0, 1.4, 5.0, 3.0, 3.9, 1.8, 4.2, 3.4, 4.7, 2.5], 10)"
      ]
     },
     "execution_count": 77,
     "metadata": {},
     "output_type": "execute_result"
    }
   ],
   "source": [
    "# now add the new one at the end\n",
    "last10_reviews.append(new_review) # time-complexity = O(1)\n",
    "last10_reviews, len(last10_reviews)"
   ]
  },
  {
   "cell_type": "code",
   "execution_count": null,
   "metadata": {},
   "outputs": [],
   "source": []
  },
  {
   "cell_type": "code",
   "execution_count": 78,
   "metadata": {},
   "outputs": [
    {
     "data": {
      "text/plain": [
       "(deque([1.0, 1.4, 5.0, 3.0, 3.9, 1.8, 4.2, 3.4, 4.7]), 9)"
      ]
     },
     "execution_count": 78,
     "metadata": {},
     "output_type": "execute_result"
    }
   ],
   "source": [
    "# GOOD way to store the last 10 reviews: using a deque\n",
    "\n",
    "last10_reviews = deque([2.5, 1.0, 1.4, 5.0, 3.0, 3.9, 1.8, 4.2, 3.4, 4.7])\n",
    "\n",
    "# first remove the oldest review\n",
    "last10_reviews.popleft() #<2>   time-complexity = O(1)\n",
    "last10_reviews, len(last10_reviews)"
   ]
  },
  {
   "cell_type": "code",
   "execution_count": 79,
   "metadata": {},
   "outputs": [
    {
     "data": {
      "text/plain": [
       "(deque([1.0, 1.4, 5.0, 3.0, 3.9, 1.8, 4.2, 3.4, 4.7, 2.5]), 10)"
      ]
     },
     "execution_count": 79,
     "metadata": {},
     "output_type": "execute_result"
    }
   ],
   "source": [
    "# now add the new one at the end\n",
    "last10_reviews.append(new_review) # time-complexity = O(1)\n",
    "last10_reviews, len(last10_reviews)"
   ]
  },
  {
   "cell_type": "code",
   "execution_count": null,
   "metadata": {},
   "outputs": [],
   "source": []
  },
  {
   "cell_type": "code",
   "execution_count": 80,
   "metadata": {},
   "outputs": [
    {
     "data": {
      "text/plain": [
       "(deque([1.0, 1.4, 5.0, 3.0, 3.9, 1.8, 4.2, 3.4, 4.7, 2.5]), 10)"
      ]
     },
     "execution_count": 80,
     "metadata": {},
     "output_type": "execute_result"
    }
   ],
   "source": [
    "# EVEN BETTER: using a deque with maxlen=10\n",
    "\n",
    "last10_reviews = deque([2.5, 1.0, 1.4, 5.0, 3.0, 3.9, 1.8, 4.2, 3.4, 4.7], maxlen=10) #<3>\n",
    "# with maxlen=10, appending to the right automatically pops on the left for us\n",
    "last10_reviews.append(new_review)\n",
    "last10_reviews, len(last10_reviews)"
   ]
  },
  {
   "cell_type": "code",
   "execution_count": null,
   "metadata": {},
   "outputs": [],
   "source": []
  },
  {
   "cell_type": "code",
   "execution_count": 81,
   "metadata": {},
   "outputs": [],
   "source": [
    "long_list = list(range(10**7))\n",
    "long_deque = deque(list(range(10**7)))"
   ]
  },
  {
   "cell_type": "code",
   "execution_count": 84,
   "metadata": {},
   "outputs": [
    {
     "name": "stdout",
     "output_type": "stream",
     "text": [
      "CPU times: user 11.6 ms, sys: 358 µs, total: 11.9 ms\n",
      "Wall time: 12 ms\n"
     ]
    },
    {
     "data": {
      "text/plain": [
       "4"
      ]
     },
     "execution_count": 84,
     "metadata": {},
     "output_type": "execute_result"
    }
   ],
   "source": [
    "%%time\n",
    "long_list.pop(0)\n",
    "#long_list.insert(0, 4)"
   ]
  },
  {
   "cell_type": "code",
   "execution_count": 85,
   "metadata": {},
   "outputs": [
    {
     "name": "stdout",
     "output_type": "stream",
     "text": [
      "CPU times: user 4 µs, sys: 0 ns, total: 4 µs\n",
      "Wall time: 7.15 µs\n"
     ]
    },
    {
     "data": {
      "text/plain": [
       "4"
      ]
     },
     "execution_count": 85,
     "metadata": {},
     "output_type": "execute_result"
    }
   ],
   "source": [
    "%%time\n",
    "long_deque.popleft()\n",
    "#long_deque.appendleft(4)"
   ]
  },
  {
   "cell_type": "markdown",
   "metadata": {},
   "source": [
    "## Discussion\n",
    "- <0> internally, a deque uses a doubly-linked list for quick access and update on both left and right ends.\n",
    "- <1> list.pop(0) takes O(n) time-complexity: costly operation as all the other items have to be shifted to the left\n",
    "- <2> on the other hand deque.popleft() is constant time operation: O(1) as internally it uses linked-lists to store the items."
   ]
  },
  {
   "cell_type": "code",
   "execution_count": null,
   "metadata": {},
   "outputs": [],
   "source": []
  },
  {
   "cell_type": "markdown",
   "metadata": {},
   "source": [
    "## Problem\n",
    "- Let's say we have a huge list for know in advance that all the items are of the same type (say: float)\n",
    "- Which type of sequence can we use to keep all the advantages of list (mainly mutabiblity and api: append, pop, etc...) but boost our program performances time and memory wise?"
   ]
  },
  {
   "cell_type": "markdown",
   "metadata": {},
   "source": [
    "## Answer\n",
    "- We can use array.array which is mutable like list but provides \"almost\" C-like performance as internally, everything is stored using the corresponding C-type."
   ]
  },
  {
   "cell_type": "code",
   "execution_count": 86,
   "metadata": {},
   "outputs": [],
   "source": [
    "from array import array\n",
    "from random import random"
   ]
  },
  {
   "cell_type": "code",
   "execution_count": 87,
   "metadata": {},
   "outputs": [
    {
     "name": "stdout",
     "output_type": "stream",
     "text": [
      "True\n",
      "CPU times: user 18 s, sys: 1.06 s, total: 19 s\n",
      "Wall time: 20.1 s\n"
     ]
    }
   ],
   "source": [
    "%%time\n",
    "\n",
    "long_list_of_floats1 = [random() for _ in range(10**7)] #<0>\n",
    "with open('floats.txt', 'w') as f:\n",
    "    f.writelines(f'{i}\\n' for i in long_list_of_floats1) #<1>\n",
    "\n",
    "with open('floats.txt', 'r') as f:\n",
    "    long_list_of_floats2 = [float(line) for line in f]  #<2>\n",
    "    \n",
    "print(long_list_of_floats1 == long_list_of_floats2) #<3>"
   ]
  },
  {
   "cell_type": "code",
   "execution_count": 88,
   "metadata": {},
   "outputs": [
    {
     "name": "stdout",
     "output_type": "stream",
     "text": [
      "True\n",
      "CPU times: user 2 s, sys: 290 ms, total: 2.29 s\n",
      "Wall time: 2.37 s\n"
     ]
    }
   ],
   "source": [
    "%%time\n",
    "\n",
    "long_array_of_floats1 = array('d', (random() for _ in range(10**7))) #<4>\n",
    "with open('floats.b', 'wb') as f:\n",
    "    long_array_of_floats1.tofile(f)  #<5>\n",
    "\n",
    "long_array_of_floats2 = array('d')\n",
    "with open('floats.b', 'rb') as f:\n",
    "    long_array_of_floats2.fromfile(f, 10**7) #<6>\n",
    "    \n",
    "print(long_array_of_floats1 == long_array_of_floats2) #<7>"
   ]
  },
  {
   "cell_type": "code",
   "execution_count": 71,
   "metadata": {},
   "outputs": [
    {
     "name": "stdout",
     "output_type": "stream",
     "text": [
      "rm: floats.text: No such file or directory\n"
     ]
    }
   ],
   "source": [
    "!rm floats.text\n",
    "!rm floats.b"
   ]
  },
  {
   "cell_type": "markdown",
   "metadata": {},
   "source": [
    "## Discussion\n",
    "- <0> constructing a list of floats of length 10^7\n",
    "- <1> saving that list to a file as text file\n",
    "- <2> reloading the float values from the floats.txt file in a different variable\n",
    "- <3> comparing the two list variables\n",
    "\n",
    "- <4> constructing an array of doubles ( 'd' ) of lenght 10^7  \n",
    "- <5> saving those values as binaries in a file since they python knows before-hand their type, it can deduce their byte representation to store efficiently \n",
    "- <6> similarly, we can retrieve faster from disk if we know the type double ('d') and the length (10^7)\n",
    "- <7> comparing takes less time as well"
   ]
  }
 ],
 "metadata": {
  "kernelspec": {
   "display_name": "Python 3",
   "language": "python",
   "name": "python3"
  },
  "language_info": {
   "codemirror_mode": {
    "name": "ipython",
    "version": 3
   },
   "file_extension": ".py",
   "mimetype": "text/x-python",
   "name": "python",
   "nbconvert_exporter": "python",
   "pygments_lexer": "ipython3",
   "version": "3.6.5"
  }
 },
 "nbformat": 4,
 "nbformat_minor": 2
}
