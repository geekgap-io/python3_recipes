{
 "cells": [
  {
   "cell_type": "markdown",
   "metadata": {},
   "source": [
    "## Problem\n",
    "- Because Python variable type is dynamically determined at runtime there is no need to specify them during function declaration.\n",
    "- However, not knowing which type a function's parameter should have when calling that function could lead into bugs.\n",
    "- Can we force function parameters to be of specific type during declaration in Python3?"
   ]
  },
  {
   "cell_type": "code",
   "execution_count": 6,
   "metadata": {},
   "outputs": [],
   "source": [
    "def calculator(a, b, operator='+'):\n",
    "    operations = {\n",
    "        '+': lambda a, b: a+b,\n",
    "        '-': lambda a, b: a-b,\n",
    "        '*': lambda a, b: a*b,\n",
    "        '/': lambda a, b: a/b,\n",
    "    }\n",
    "    \n",
    "    operation = operations[operator]\n",
    "    result = operation(a, b)\n",
    "    return result"
   ]
  },
  {
   "cell_type": "markdown",
   "metadata": {},
   "source": [
    "## Answer\n",
    "- The short and formal answer is NO:\n",
    "- Python3 introduced parameters annotations but these are not doing any enforcement of any kind, and are just mere annotations of the parameters"
   ]
  },
  {
   "cell_type": "code",
   "execution_count": 7,
   "metadata": {},
   "outputs": [
    {
     "name": "stdout",
     "output_type": "stream",
     "text": [
      "['__annotations__', '__call__', '__class__', '__closure__', '__code__', '__defaults__', '__delattr__', '__dict__', '__dir__', '__doc__', '__eq__', '__format__', '__ge__', '__get__', '__getattribute__', '__globals__', '__gt__', '__hash__', '__init__', '__init_subclass__', '__kwdefaults__', '__le__', '__lt__', '__module__', '__name__', '__ne__', '__new__', '__qualname__', '__reduce__', '__reduce_ex__', '__repr__', '__setattr__', '__sizeof__', '__str__', '__subclasshook__']\n"
     ]
    }
   ],
   "source": [
    "print(dir(calculator))"
   ]
  },
  {
   "cell_type": "code",
   "execution_count": 8,
   "metadata": {},
   "outputs": [
    {
     "name": "stdout",
     "output_type": "stream",
     "text": [
      "{}\n"
     ]
    }
   ],
   "source": [
    "print(calculator.__annotations__) #<0>"
   ]
  },
  {
   "cell_type": "code",
   "execution_count": 9,
   "metadata": {},
   "outputs": [
    {
     "name": "stdout",
     "output_type": "stream",
     "text": [
      "calculator(3, 2, '+') = 5\n",
      "calculator(3, 2, '-') = 1\n",
      "calculator(3, 2, '*') = 6\n",
      "calculator(3, 2, '/') = 1.5\n",
      "calculator('hello', ' world', '+') = hello world\n"
     ]
    }
   ],
   "source": [
    "#<1> \n",
    "print(f\"calculator(3, 2, '+') = {calculator(3, 2)}\")\n",
    "print(f\"calculator(3, 2, '-') = {calculator(3, 2, '-')}\")\n",
    "print(f\"calculator(3, 2, '*') = {calculator(3, 2, '*')}\")\n",
    "print(f\"calculator(3, 2, '/') = {calculator(3, 2, '/')}\")\n",
    "  \n",
    "#<2> \n",
    "print(f\"calculator('hello', ' world', '+') = {calculator('hello', ' world', '+')}\")"
   ]
  },
  {
   "cell_type": "code",
   "execution_count": 10,
   "metadata": {},
   "outputs": [
    {
     "ename": "TypeError",
     "evalue": "unsupported operand type(s) for -: 'str' and 'str'",
     "output_type": "error",
     "traceback": [
      "\u001b[0;31m---------------------------------------------------------------------------\u001b[0m",
      "\u001b[0;31mTypeError\u001b[0m                                 Traceback (most recent call last)",
      "\u001b[0;32m<ipython-input-10-66c34d6a834b>\u001b[0m in \u001b[0;36m<module>\u001b[0;34m\u001b[0m\n\u001b[1;32m      1\u001b[0m \u001b[0;31m#<3>\u001b[0m\u001b[0;34m\u001b[0m\u001b[0;34m\u001b[0m\u001b[0m\n\u001b[0;32m----> 2\u001b[0;31m \u001b[0mprint\u001b[0m\u001b[0;34m(\u001b[0m\u001b[0;34mf\"calculator('hello', ' world', '-') = {calculator('hello', ' world', '-')}\"\u001b[0m\u001b[0;34m)\u001b[0m\u001b[0;34m\u001b[0m\u001b[0m\n\u001b[0m",
      "\u001b[0;32m<ipython-input-6-3169f67afc6a>\u001b[0m in \u001b[0;36mcalculator\u001b[0;34m(a, b, operator)\u001b[0m\n\u001b[1;32m      8\u001b[0m \u001b[0;34m\u001b[0m\u001b[0m\n\u001b[1;32m      9\u001b[0m     \u001b[0moperation\u001b[0m \u001b[0;34m=\u001b[0m \u001b[0moperations\u001b[0m\u001b[0;34m[\u001b[0m\u001b[0moperator\u001b[0m\u001b[0;34m]\u001b[0m\u001b[0;34m\u001b[0m\u001b[0m\n\u001b[0;32m---> 10\u001b[0;31m     \u001b[0mresult\u001b[0m \u001b[0;34m=\u001b[0m \u001b[0moperation\u001b[0m\u001b[0;34m(\u001b[0m\u001b[0ma\u001b[0m\u001b[0;34m,\u001b[0m \u001b[0mb\u001b[0m\u001b[0;34m)\u001b[0m\u001b[0;34m\u001b[0m\u001b[0m\n\u001b[0m\u001b[1;32m     11\u001b[0m     \u001b[0;32mreturn\u001b[0m \u001b[0mresult\u001b[0m\u001b[0;34m\u001b[0m\u001b[0m\n",
      "\u001b[0;32m<ipython-input-6-3169f67afc6a>\u001b[0m in \u001b[0;36m<lambda>\u001b[0;34m(a, b)\u001b[0m\n\u001b[1;32m      2\u001b[0m     operations = {\n\u001b[1;32m      3\u001b[0m         \u001b[0;34m'+'\u001b[0m\u001b[0;34m:\u001b[0m \u001b[0;32mlambda\u001b[0m \u001b[0ma\u001b[0m\u001b[0;34m,\u001b[0m \u001b[0mb\u001b[0m\u001b[0;34m:\u001b[0m \u001b[0ma\u001b[0m\u001b[0;34m+\u001b[0m\u001b[0mb\u001b[0m\u001b[0;34m,\u001b[0m\u001b[0;34m\u001b[0m\u001b[0m\n\u001b[0;32m----> 4\u001b[0;31m         \u001b[0;34m'-'\u001b[0m\u001b[0;34m:\u001b[0m \u001b[0;32mlambda\u001b[0m \u001b[0ma\u001b[0m\u001b[0;34m,\u001b[0m \u001b[0mb\u001b[0m\u001b[0;34m:\u001b[0m \u001b[0ma\u001b[0m\u001b[0;34m-\u001b[0m\u001b[0mb\u001b[0m\u001b[0;34m,\u001b[0m\u001b[0;34m\u001b[0m\u001b[0m\n\u001b[0m\u001b[1;32m      5\u001b[0m         \u001b[0;34m'*'\u001b[0m\u001b[0;34m:\u001b[0m \u001b[0;32mlambda\u001b[0m \u001b[0ma\u001b[0m\u001b[0;34m,\u001b[0m \u001b[0mb\u001b[0m\u001b[0;34m:\u001b[0m \u001b[0ma\u001b[0m\u001b[0;34m*\u001b[0m\u001b[0mb\u001b[0m\u001b[0;34m,\u001b[0m\u001b[0;34m\u001b[0m\u001b[0m\n\u001b[1;32m      6\u001b[0m         \u001b[0;34m'/'\u001b[0m\u001b[0;34m:\u001b[0m \u001b[0;32mlambda\u001b[0m \u001b[0ma\u001b[0m\u001b[0;34m,\u001b[0m \u001b[0mb\u001b[0m\u001b[0;34m:\u001b[0m \u001b[0ma\u001b[0m\u001b[0;34m/\u001b[0m\u001b[0mb\u001b[0m\u001b[0;34m,\u001b[0m\u001b[0;34m\u001b[0m\u001b[0m\n",
      "\u001b[0;31mTypeError\u001b[0m: unsupported operand type(s) for -: 'str' and 'str'"
     ]
    }
   ],
   "source": [
    "#<3> \n",
    "print(f\"calculator('hello', ' world', '-') = {calculator('hello', ' world', '-')}\")"
   ]
  },
  {
   "cell_type": "code",
   "execution_count": null,
   "metadata": {},
   "outputs": [],
   "source": [
    "#<4> \n",
    "print(f\"calculator(3, 2, '^') = {calculator(3, 2, '^')}\")"
   ]
  },
  {
   "cell_type": "code",
   "execution_count": null,
   "metadata": {},
   "outputs": [],
   "source": [
    "# GOOD WAY: Use functions parameters annotation to make things clear to the caller code.\n",
    "\n",
    "def calculator(a:float, b:float, operator:\"str in ('+', '-', '*', '/')\"='+') -> float: #<5>\n",
    "    operations = {\n",
    "        '+': lambda a, b: a+b,\n",
    "        '-': lambda a, b: a-b,\n",
    "        '*': lambda a, b: a*b,\n",
    "        '/': lambda a, b: a/b,\n",
    "    }\n",
    "    \n",
    "    operation = operations[operator]\n",
    "    result = operation(a, b)\n",
    "    return result\n",
    "\n",
    "print(calculator.__annotations__) #<6>"
   ]
  },
  {
   "cell_type": "code",
   "execution_count": null,
   "metadata": {},
   "outputs": [],
   "source": [
    "#<7> \n",
    "print(f\"calculator(3, 2, '+') = {calculator(3, 2)}\")\n",
    "print(f\"calculator(3, 2, '-') = {calculator(3, 2, '-')}\")\n",
    "print(f\"calculator(3, 2, '*') = {calculator(3, 2, '*')}\")\n",
    "print(f\"calculator(3, 2, '/') = {calculator(3, 2, '/')}\")\n",
    "  \n",
    "#<8> \n",
    "print(f\"calculator('hello', ' world', '+') = {calculator('hello', ' world', '+')}\")"
   ]
  },
  {
   "cell_type": "code",
   "execution_count": null,
   "metadata": {},
   "outputs": [],
   "source": [
    "print(f\"calculator('hello', ' world', '-') = {calculator('hello', ' world', '-')}\") #<9> "
   ]
  },
  {
   "cell_type": "code",
   "execution_count": null,
   "metadata": {},
   "outputs": [],
   "source": [
    "print(f\"calculator(3, 2, '^') = {calculator(3, 2, '^')}\") #<10> "
   ]
  },
  {
   "cell_type": "markdown",
   "metadata": {},
   "source": [
    "## Discussion\n",
    "- <0> calculator has no annotations metadata\n",
    "- <1> calculator works well as expected on floats\n",
    "- <2> calculator also works well when summing to str\n",
    "- <3> calculator does not work well when substracting str, however this is not easy to know from the function definition that the expected parameters should be only floats \n",
    "- <4> Likewise, it's not very clear from the declaration that the only supported operators are: +, -, * and /\n",
    "- <5> adding parameter and return type annotation, we can do so either by putting a type or a string with a content of our choosing.\n",
    "- <6> the _\\_\\annotations_\\_\\ attribute of the calculator function is now defined.\n",
    "- <7> calculator still works as expected on floats\n",
    "- <8, 9, 10> calculator also still works on str like it did before, because annotations are just that: annotations and no type enforcement is implemented under the hood."
   ]
  }
 ],
 "metadata": {
  "kernelspec": {
   "display_name": "Python 3",
   "language": "python",
   "name": "python3"
  },
  "language_info": {
   "codemirror_mode": {
    "name": "ipython",
    "version": 3
   },
   "file_extension": ".py",
   "mimetype": "text/x-python",
   "name": "python",
   "nbconvert_exporter": "python",
   "pygments_lexer": "ipython3",
   "version": "3.6.5"
  }
 },
 "nbformat": 4,
 "nbformat_minor": 2
}
