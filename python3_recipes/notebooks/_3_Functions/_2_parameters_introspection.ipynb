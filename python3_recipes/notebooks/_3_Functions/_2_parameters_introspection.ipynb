{
 "cells": [
  {
   "cell_type": "markdown",
   "metadata": {},
   "source": [
    "## Problem\n",
    "- How to inspect the parameters and return types of a function before making the actual call?"
   ]
  },
  {
   "cell_type": "code",
   "execution_count": 1,
   "metadata": {},
   "outputs": [],
   "source": [
    "def calculator(a, b, operator='+'):\n",
    "    operations = {\n",
    "        '+': lambda a, b: a+b,\n",
    "        '-': lambda a, b: a-b,\n",
    "        '*': lambda a, b: a*b,\n",
    "        '/': lambda a, b: a/b,\n",
    "    }\n",
    "    \n",
    "    operation = operations[operator]\n",
    "    result = operation(a, b)\n",
    "    return result\n",
    "\n",
    "\n",
    "def calculator_annot(a:float, b:float, operator:\"str in ('+', '-', '*', '/')\"='+') -> float: #<5>\n",
    "    operations = {\n",
    "        '+': lambda a, b: a+b,\n",
    "        '-': lambda a, b: a-b,\n",
    "        '*': lambda a, b: a*b,\n",
    "        '/': lambda a, b: a/b,\n",
    "    }\n",
    "    \n",
    "    operation = operations[operator]\n",
    "    result = operation(a, b)\n",
    "    return result"
   ]
  },
  {
   "cell_type": "markdown",
   "metadata": {},
   "source": [
    "## Answer\n",
    "- Use the inspect module"
   ]
  },
  {
   "cell_type": "code",
   "execution_count": 2,
   "metadata": {},
   "outputs": [
    {
     "name": "stdout",
     "output_type": "stream",
     "text": [
      "['__annotations__', '__call__', '__class__', '__closure__', '__code__', '__defaults__', '__delattr__', '__dict__', '__dir__', '__doc__', '__eq__', '__format__', '__ge__', '__get__', '__getattribute__', '__globals__', '__gt__', '__hash__', '__init__', '__init_subclass__', '__kwdefaults__', '__le__', '__lt__', '__module__', '__name__', '__ne__', '__new__', '__qualname__', '__reduce__', '__reduce_ex__', '__repr__', '__setattr__', '__sizeof__', '__str__', '__subclasshook__']\n",
      "\n",
      "['__annotations__', '__call__', '__class__', '__closure__', '__code__', '__defaults__', '__delattr__', '__dict__', '__dir__', '__doc__', '__eq__', '__format__', '__ge__', '__get__', '__getattribute__', '__globals__', '__gt__', '__hash__', '__init__', '__init_subclass__', '__kwdefaults__', '__le__', '__lt__', '__module__', '__name__', '__ne__', '__new__', '__qualname__', '__reduce__', '__reduce_ex__', '__repr__', '__setattr__', '__sizeof__', '__str__', '__subclasshook__']\n"
     ]
    }
   ],
   "source": [
    "# before looking at inspect module let's see something cool\n",
    "print(dir(calculator))\n",
    "print()\n",
    "print(dir(calculator_annot))"
   ]
  },
  {
   "cell_type": "code",
   "execution_count": 5,
   "metadata": {},
   "outputs": [
    {
     "name": "stdout",
     "output_type": "stream",
     "text": [
      "('+',)\n",
      "('+',)\n"
     ]
    }
   ],
   "source": [
    "print(calculator.__defaults__) #<0>\n",
    "print(calculator_annot.__defaults__)"
   ]
  },
  {
   "cell_type": "code",
   "execution_count": 11,
   "metadata": {},
   "outputs": [
    {
     "name": "stdout",
     "output_type": "stream",
     "text": [
      "['__repr__', '__hash__', '__getattribute__', '__lt__', '__le__', '__eq__', '__ne__', '__gt__', '__ge__', '__new__', '__sizeof__', 'co_argcount', 'co_kwonlyargcount', 'co_nlocals', 'co_stacksize', 'co_flags', 'co_code', 'co_consts', 'co_names', 'co_varnames', 'co_freevars', 'co_cellvars', 'co_filename', 'co_name', 'co_firstlineno', 'co_lnotab', '__doc__', '__str__', '__setattr__', '__delattr__', '__init__', '__reduce_ex__', '__reduce__', '__subclasshook__', '__init_subclass__', '__format__', '__dir__', '__class__']\n"
     ]
    }
   ],
   "source": [
    "print(calculator.__code__.__dir__())"
   ]
  },
  {
   "cell_type": "code",
   "execution_count": 21,
   "metadata": {},
   "outputs": [
    {
     "name": "stdout",
     "output_type": "stream",
     "text": [
      "3\n",
      "0\n",
      "('a', 'b', 'operator', 'operations', 'operation', 'result')\n"
     ]
    }
   ],
   "source": [
    "print(calculator.__code__.co_argcount) #<1>\n",
    "print(calculator.__code__.co_kwonlyargcount) #<2>\n",
    "print(calculator.__code__.co_varnames) #<3>"
   ]
  },
  {
   "cell_type": "code",
   "execution_count": 22,
   "metadata": {},
   "outputs": [],
   "source": [
    "# getting a function signature using the inspect module\n",
    "\n",
    "from inspect import signature\n",
    "\n",
    "sign = signature(calculator) #<4>\n",
    "sign_annot = signature(calculator_annot) #<4>"
   ]
  },
  {
   "cell_type": "code",
   "execution_count": 38,
   "metadata": {},
   "outputs": [
    {
     "name": "stdout",
     "output_type": "stream",
     "text": [
      "POSITIONAL_OR_KEYWORD : a = <class 'inspect._empty'>\n",
      "POSITIONAL_OR_KEYWORD : b = <class 'inspect._empty'>\n",
      "POSITIONAL_OR_KEYWORD : operator = +\n",
      "<class 'inspect._empty'>\n"
     ]
    }
   ],
   "source": [
    "for name, param in sign.parameters.items():\n",
    "    print(param.kind, ':', name, '=', param.default)\n",
    "print(sign.return_annotation)"
   ]
  },
  {
   "cell_type": "code",
   "execution_count": 39,
   "metadata": {},
   "outputs": [
    {
     "name": "stdout",
     "output_type": "stream",
     "text": [
      "POSITIONAL_OR_KEYWORD :  <class 'float'>                : a = <class 'inspect._empty'>\n",
      "POSITIONAL_OR_KEYWORD :  <class 'float'>                : b = <class 'inspect._empty'>\n",
      "POSITIONAL_OR_KEYWORD :  \"str in ('+', '-', '*', '/')\"  : operator = +\n",
      "<class 'float'>\n"
     ]
    }
   ],
   "source": [
    "for name, param in sign_annot.parameters.items():\n",
    "    annotation = repr(param.annotation).ljust(30)\n",
    "    print(param.kind, ': ',  annotation, ':', name, '=', param.default)\n",
    "print(sign_annot.return_annotation)"
   ]
  },
  {
   "cell_type": "code",
   "execution_count": null,
   "metadata": {},
   "outputs": [],
   "source": []
  },
  {
   "cell_type": "code",
   "execution_count": 32,
   "metadata": {},
   "outputs": [
    {
     "name": "stdout",
     "output_type": "stream",
     "text": [
      "a = 1\n",
      "b = 2\n",
      "operator = +\n"
     ]
    }
   ],
   "source": [
    "# checking if a function call is possible before making the actual call\n",
    "\n",
    "args_call1 = (1, 2, '+') # call with params as positional args\n",
    "bound1 = sign.bind(*args_call1) #<5>\n",
    "for name, value in bound1.arguments.items():\n",
    "    print(name, '=', value)"
   ]
  },
  {
   "cell_type": "code",
   "execution_count": 36,
   "metadata": {},
   "outputs": [
    {
     "name": "stdout",
     "output_type": "stream",
     "text": [
      "a = 1\n",
      "b = 2\n",
      "operator = +\n",
      "---\n",
      "a = 1\n",
      "b = 2\n"
     ]
    }
   ],
   "source": [
    "args_call2 = {'a': 1, 'b': 2, 'operator': '+'} # call with params as keyword args\n",
    "bound2 = sign.bind(**args_call2) \n",
    "for name, value in bound2.arguments.items():\n",
    "    print(name, '=', value)\n",
    "    \n",
    "print('---')\n",
    "\n",
    "del args_call2['operator'] # deleting operator should be fine since there is a default parameter\n",
    "bound2 = sign.bind(**args_call2)\n",
    "for name, value in bound2.arguments.items():\n",
    "    print(name, '=', value)"
   ]
  },
  {
   "cell_type": "code",
   "execution_count": 40,
   "metadata": {},
   "outputs": [
    {
     "ename": "TypeError",
     "evalue": "missing a required argument: 'a'",
     "traceback": [
      "\u001b[0;31m---------------------------------------------------------------------------\u001b[0m",
      "\u001b[0;31mTypeError\u001b[0m                                 Traceback (most recent call last)",
      "\u001b[0;32m<ipython-input-40-4c71375f95c2>\u001b[0m in \u001b[0;36m<module>\u001b[0;34m\u001b[0m\n\u001b[1;32m      1\u001b[0m \u001b[0margs_call3\u001b[0m \u001b[0;34m=\u001b[0m \u001b[0;34m{\u001b[0m\u001b[0;34m'b'\u001b[0m\u001b[0;34m:\u001b[0m \u001b[0;36m2\u001b[0m\u001b[0;34m,\u001b[0m \u001b[0;34m'operator'\u001b[0m\u001b[0;34m:\u001b[0m \u001b[0;34m'+'\u001b[0m\u001b[0;34m}\u001b[0m \u001b[0;31m# removing a from the arguments would make the call impossible as a is required.\u001b[0m\u001b[0;34m\u001b[0m\u001b[0m\n\u001b[0;32m----> 2\u001b[0;31m \u001b[0mbound3\u001b[0m \u001b[0;34m=\u001b[0m \u001b[0msign\u001b[0m\u001b[0;34m.\u001b[0m\u001b[0mbind\u001b[0m\u001b[0;34m(\u001b[0m\u001b[0;34m**\u001b[0m\u001b[0margs_call3\u001b[0m\u001b[0;34m)\u001b[0m \u001b[0;31m# as expected this raises an exception\u001b[0m\u001b[0;34m\u001b[0m\u001b[0m\n\u001b[0m",
      "\u001b[0;32m~/.pyenv/versions/3.6.5/lib/python3.6/inspect.py\u001b[0m in \u001b[0;36mbind\u001b[0;34m(*args, **kwargs)\u001b[0m\n\u001b[1;32m   2967\u001b[0m         \u001b[0;32mif\u001b[0m \u001b[0mthe\u001b[0m \u001b[0mpassed\u001b[0m \u001b[0marguments\u001b[0m \u001b[0mcan\u001b[0m \u001b[0;32mnot\u001b[0m \u001b[0mbe\u001b[0m \u001b[0mbound\u001b[0m\u001b[0;34m.\u001b[0m\u001b[0;34m\u001b[0m\u001b[0m\n\u001b[1;32m   2968\u001b[0m         \"\"\"\n\u001b[0;32m-> 2969\u001b[0;31m         \u001b[0;32mreturn\u001b[0m \u001b[0margs\u001b[0m\u001b[0;34m[\u001b[0m\u001b[0;36m0\u001b[0m\u001b[0;34m]\u001b[0m\u001b[0;34m.\u001b[0m\u001b[0m_bind\u001b[0m\u001b[0;34m(\u001b[0m\u001b[0margs\u001b[0m\u001b[0;34m[\u001b[0m\u001b[0;36m1\u001b[0m\u001b[0;34m:\u001b[0m\u001b[0;34m]\u001b[0m\u001b[0;34m,\u001b[0m \u001b[0mkwargs\u001b[0m\u001b[0;34m)\u001b[0m\u001b[0;34m\u001b[0m\u001b[0m\n\u001b[0m\u001b[1;32m   2970\u001b[0m \u001b[0;34m\u001b[0m\u001b[0m\n\u001b[1;32m   2971\u001b[0m     \u001b[0;32mdef\u001b[0m \u001b[0mbind_partial\u001b[0m\u001b[0;34m(\u001b[0m\u001b[0;34m*\u001b[0m\u001b[0margs\u001b[0m\u001b[0;34m,\u001b[0m \u001b[0;34m**\u001b[0m\u001b[0mkwargs\u001b[0m\u001b[0;34m)\u001b[0m\u001b[0;34m:\u001b[0m\u001b[0;34m\u001b[0m\u001b[0m\n",
      "\u001b[0;32m~/.pyenv/versions/3.6.5/lib/python3.6/inspect.py\u001b[0m in \u001b[0;36m_bind\u001b[0;34m(self, args, kwargs, partial)\u001b[0m\n\u001b[1;32m   2882\u001b[0m                             \u001b[0mmsg\u001b[0m \u001b[0;34m=\u001b[0m \u001b[0;34m'missing a required argument: {arg!r}'\u001b[0m\u001b[0;34m\u001b[0m\u001b[0m\n\u001b[1;32m   2883\u001b[0m                             \u001b[0mmsg\u001b[0m \u001b[0;34m=\u001b[0m \u001b[0mmsg\u001b[0m\u001b[0;34m.\u001b[0m\u001b[0mformat\u001b[0m\u001b[0;34m(\u001b[0m\u001b[0marg\u001b[0m\u001b[0;34m=\u001b[0m\u001b[0mparam\u001b[0m\u001b[0;34m.\u001b[0m\u001b[0mname\u001b[0m\u001b[0;34m)\u001b[0m\u001b[0;34m\u001b[0m\u001b[0m\n\u001b[0;32m-> 2884\u001b[0;31m                             \u001b[0;32mraise\u001b[0m \u001b[0mTypeError\u001b[0m\u001b[0;34m(\u001b[0m\u001b[0mmsg\u001b[0m\u001b[0;34m)\u001b[0m \u001b[0;32mfrom\u001b[0m \u001b[0;32mNone\u001b[0m\u001b[0;34m\u001b[0m\u001b[0m\n\u001b[0m\u001b[1;32m   2885\u001b[0m             \u001b[0;32melse\u001b[0m\u001b[0;34m:\u001b[0m\u001b[0;34m\u001b[0m\u001b[0m\n\u001b[1;32m   2886\u001b[0m                 \u001b[0;31m# We have a positional argument to process\u001b[0m\u001b[0;34m\u001b[0m\u001b[0;34m\u001b[0m\u001b[0m\n",
      "\u001b[0;31mTypeError\u001b[0m: missing a required argument: 'a'"
     ],
     "output_type": "error"
    }
   ],
   "source": [
    "args_call3 = {'b': 2, 'operator': '+'} # removing a from the arguments would make the call impossible as a is required.\n",
    "bound3 = sign.bind(**args_call3) #<6> # as expected this raises an exception"
   ]
  },
  {
   "cell_type": "code",
   "execution_count": 42,
   "metadata": {},
   "outputs": [
    {
     "ename": "TypeError",
     "evalue": "calculator() missing 1 required positional argument: 'a'",
     "traceback": [
      "\u001b[0;31m---------------------------------------------------------------------------\u001b[0m",
      "\u001b[0;31mTypeError\u001b[0m                                 Traceback (most recent call last)",
      "\u001b[0;32m<ipython-input-42-9d918924d249>\u001b[0m in \u001b[0;36m<module>\u001b[0;34m\u001b[0m\n\u001b[0;32m----> 1\u001b[0;31m \u001b[0mcalculator\u001b[0m\u001b[0;34m(\u001b[0m\u001b[0;34m**\u001b[0m\u001b[0margs_call3\u001b[0m\u001b[0;34m)\u001b[0m \u001b[0;31m# calling the function for real with the same set of arguments raises the same exception\u001b[0m\u001b[0;34m\u001b[0m\u001b[0m\n\u001b[0m",
      "\u001b[0;31mTypeError\u001b[0m: calculator() missing 1 required positional argument: 'a'"
     ],
     "output_type": "error"
    }
   ],
   "source": [
    "calculator(**args_call3) # calling the function for real with the same set of arguments raises the same exception"
   ]
  },
  {
   "cell_type": "markdown",
   "metadata": {},
   "source": [
    "## Discussion\n",
    "- <0> returns the values of all the parameters with default values\n",
    "- <1> returns the number of position and keyword arguments of the function\n",
    "- <2> returns only the number of keyword arguments\n",
    "- <3> returns all the parameters and variables defined within the function\n",
    "- <4> constructs a signature object from a function\n",
    "- <5> binds the arguments provided with and check if they are valid arguments, if a call to the function could be made with those arguments returns a bound object.\n",
    "- <6> when the call the function can't be made with the provided arguments, bind throws the same exception calling the actual function with the same arguments would have thrown."
   ]
  },
  {
   "cell_type": "code",
   "execution_count": null,
   "metadata": {},
   "outputs": [],
   "source": []
  }
 ],
 "metadata": {
  "kernelspec": {
   "display_name": "Python 3",
   "language": "python",
   "name": "python3"
  },
  "language_info": {
   "codemirror_mode": {
    "name": "ipython",
    "version": 3
   },
   "file_extension": ".py",
   "mimetype": "text/x-python",
   "name": "python",
   "nbconvert_exporter": "python",
   "pygments_lexer": "ipython3",
   "version": "3.6.5"
  }
 },
 "nbformat": 4,
 "nbformat_minor": 2
}
